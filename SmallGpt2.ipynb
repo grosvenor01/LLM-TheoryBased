{
  "nbformat": 4,
  "nbformat_minor": 0,
  "metadata": {
    "colab": {
      "provenance": [],
      "gpuType": "T4"
    },
    "kernelspec": {
      "name": "python3",
      "display_name": "Python 3"
    },
    "language_info": {
      "name": "python"
    },
    "accelerator": "GPU",
    "widgets": {
      "application/vnd.jupyter.widget-state+json": {
        "1a720963bfc24cea9731e2d2cbf3d418": {
          "model_module": "@jupyter-widgets/controls",
          "model_name": "HBoxModel",
          "model_module_version": "1.5.0",
          "state": {
            "_dom_classes": [],
            "_model_module": "@jupyter-widgets/controls",
            "_model_module_version": "1.5.0",
            "_model_name": "HBoxModel",
            "_view_count": null,
            "_view_module": "@jupyter-widgets/controls",
            "_view_module_version": "1.5.0",
            "_view_name": "HBoxView",
            "box_style": "",
            "children": [
              "IPY_MODEL_dc5371ab57de4213be244dbb2198c91c",
              "IPY_MODEL_2fb357e4221048a1977377c2ec30752a",
              "IPY_MODEL_1a9e28050dc54ac283e9d62fa3cf74a0"
            ],
            "layout": "IPY_MODEL_6961ba78049643088096e14b1a7948a0"
          }
        },
        "dc5371ab57de4213be244dbb2198c91c": {
          "model_module": "@jupyter-widgets/controls",
          "model_name": "HTMLModel",
          "model_module_version": "1.5.0",
          "state": {
            "_dom_classes": [],
            "_model_module": "@jupyter-widgets/controls",
            "_model_module_version": "1.5.0",
            "_model_name": "HTMLModel",
            "_view_count": null,
            "_view_module": "@jupyter-widgets/controls",
            "_view_module_version": "1.5.0",
            "_view_name": "HTMLView",
            "description": "",
            "description_tooltip": null,
            "layout": "IPY_MODEL_e3455de5ef91489a925610157d7a52f8",
            "placeholder": "​",
            "style": "IPY_MODEL_5475a9048aa74d328a3d5ab5cf5aa913",
            "value": "Downloading data: 100%"
          }
        },
        "2fb357e4221048a1977377c2ec30752a": {
          "model_module": "@jupyter-widgets/controls",
          "model_name": "FloatProgressModel",
          "model_module_version": "1.5.0",
          "state": {
            "_dom_classes": [],
            "_model_module": "@jupyter-widgets/controls",
            "_model_module_version": "1.5.0",
            "_model_name": "FloatProgressModel",
            "_view_count": null,
            "_view_module": "@jupyter-widgets/controls",
            "_view_module_version": "1.5.0",
            "_view_name": "ProgressView",
            "bar_style": "success",
            "description": "",
            "description_tooltip": null,
            "layout": "IPY_MODEL_e22fb7714d7b4560b5b14d81dab0d3fd",
            "max": 30271596,
            "min": 0,
            "orientation": "horizontal",
            "style": "IPY_MODEL_06c68f8c9a134440b17cbe3ac731df70",
            "value": 30271596
          }
        },
        "1a9e28050dc54ac283e9d62fa3cf74a0": {
          "model_module": "@jupyter-widgets/controls",
          "model_name": "HTMLModel",
          "model_module_version": "1.5.0",
          "state": {
            "_dom_classes": [],
            "_model_module": "@jupyter-widgets/controls",
            "_model_module_version": "1.5.0",
            "_model_name": "HTMLModel",
            "_view_count": null,
            "_view_module": "@jupyter-widgets/controls",
            "_view_module_version": "1.5.0",
            "_view_name": "HTMLView",
            "description": "",
            "description_tooltip": null,
            "layout": "IPY_MODEL_ee1badd7c1b14321be63ae78b2a6dbcc",
            "placeholder": "​",
            "style": "IPY_MODEL_920706b9c94440e9b936072ef0e4c7cd",
            "value": " 30.3M/30.3M [00:00&lt;00:00, 55.1MB/s]"
          }
        },
        "6961ba78049643088096e14b1a7948a0": {
          "model_module": "@jupyter-widgets/base",
          "model_name": "LayoutModel",
          "model_module_version": "1.2.0",
          "state": {
            "_model_module": "@jupyter-widgets/base",
            "_model_module_version": "1.2.0",
            "_model_name": "LayoutModel",
            "_view_count": null,
            "_view_module": "@jupyter-widgets/base",
            "_view_module_version": "1.2.0",
            "_view_name": "LayoutView",
            "align_content": null,
            "align_items": null,
            "align_self": null,
            "border": null,
            "bottom": null,
            "display": null,
            "flex": null,
            "flex_flow": null,
            "grid_area": null,
            "grid_auto_columns": null,
            "grid_auto_flow": null,
            "grid_auto_rows": null,
            "grid_column": null,
            "grid_gap": null,
            "grid_row": null,
            "grid_template_areas": null,
            "grid_template_columns": null,
            "grid_template_rows": null,
            "height": null,
            "justify_content": null,
            "justify_items": null,
            "left": null,
            "margin": null,
            "max_height": null,
            "max_width": null,
            "min_height": null,
            "min_width": null,
            "object_fit": null,
            "object_position": null,
            "order": null,
            "overflow": null,
            "overflow_x": null,
            "overflow_y": null,
            "padding": null,
            "right": null,
            "top": null,
            "visibility": null,
            "width": null
          }
        },
        "e3455de5ef91489a925610157d7a52f8": {
          "model_module": "@jupyter-widgets/base",
          "model_name": "LayoutModel",
          "model_module_version": "1.2.0",
          "state": {
            "_model_module": "@jupyter-widgets/base",
            "_model_module_version": "1.2.0",
            "_model_name": "LayoutModel",
            "_view_count": null,
            "_view_module": "@jupyter-widgets/base",
            "_view_module_version": "1.2.0",
            "_view_name": "LayoutView",
            "align_content": null,
            "align_items": null,
            "align_self": null,
            "border": null,
            "bottom": null,
            "display": null,
            "flex": null,
            "flex_flow": null,
            "grid_area": null,
            "grid_auto_columns": null,
            "grid_auto_flow": null,
            "grid_auto_rows": null,
            "grid_column": null,
            "grid_gap": null,
            "grid_row": null,
            "grid_template_areas": null,
            "grid_template_columns": null,
            "grid_template_rows": null,
            "height": null,
            "justify_content": null,
            "justify_items": null,
            "left": null,
            "margin": null,
            "max_height": null,
            "max_width": null,
            "min_height": null,
            "min_width": null,
            "object_fit": null,
            "object_position": null,
            "order": null,
            "overflow": null,
            "overflow_x": null,
            "overflow_y": null,
            "padding": null,
            "right": null,
            "top": null,
            "visibility": null,
            "width": null
          }
        },
        "5475a9048aa74d328a3d5ab5cf5aa913": {
          "model_module": "@jupyter-widgets/controls",
          "model_name": "DescriptionStyleModel",
          "model_module_version": "1.5.0",
          "state": {
            "_model_module": "@jupyter-widgets/controls",
            "_model_module_version": "1.5.0",
            "_model_name": "DescriptionStyleModel",
            "_view_count": null,
            "_view_module": "@jupyter-widgets/base",
            "_view_module_version": "1.2.0",
            "_view_name": "StyleView",
            "description_width": ""
          }
        },
        "e22fb7714d7b4560b5b14d81dab0d3fd": {
          "model_module": "@jupyter-widgets/base",
          "model_name": "LayoutModel",
          "model_module_version": "1.2.0",
          "state": {
            "_model_module": "@jupyter-widgets/base",
            "_model_module_version": "1.2.0",
            "_model_name": "LayoutModel",
            "_view_count": null,
            "_view_module": "@jupyter-widgets/base",
            "_view_module_version": "1.2.0",
            "_view_name": "LayoutView",
            "align_content": null,
            "align_items": null,
            "align_self": null,
            "border": null,
            "bottom": null,
            "display": null,
            "flex": null,
            "flex_flow": null,
            "grid_area": null,
            "grid_auto_columns": null,
            "grid_auto_flow": null,
            "grid_auto_rows": null,
            "grid_column": null,
            "grid_gap": null,
            "grid_row": null,
            "grid_template_areas": null,
            "grid_template_columns": null,
            "grid_template_rows": null,
            "height": null,
            "justify_content": null,
            "justify_items": null,
            "left": null,
            "margin": null,
            "max_height": null,
            "max_width": null,
            "min_height": null,
            "min_width": null,
            "object_fit": null,
            "object_position": null,
            "order": null,
            "overflow": null,
            "overflow_x": null,
            "overflow_y": null,
            "padding": null,
            "right": null,
            "top": null,
            "visibility": null,
            "width": null
          }
        },
        "06c68f8c9a134440b17cbe3ac731df70": {
          "model_module": "@jupyter-widgets/controls",
          "model_name": "ProgressStyleModel",
          "model_module_version": "1.5.0",
          "state": {
            "_model_module": "@jupyter-widgets/controls",
            "_model_module_version": "1.5.0",
            "_model_name": "ProgressStyleModel",
            "_view_count": null,
            "_view_module": "@jupyter-widgets/base",
            "_view_module_version": "1.2.0",
            "_view_name": "StyleView",
            "bar_color": null,
            "description_width": ""
          }
        },
        "ee1badd7c1b14321be63ae78b2a6dbcc": {
          "model_module": "@jupyter-widgets/base",
          "model_name": "LayoutModel",
          "model_module_version": "1.2.0",
          "state": {
            "_model_module": "@jupyter-widgets/base",
            "_model_module_version": "1.2.0",
            "_model_name": "LayoutModel",
            "_view_count": null,
            "_view_module": "@jupyter-widgets/base",
            "_view_module_version": "1.2.0",
            "_view_name": "LayoutView",
            "align_content": null,
            "align_items": null,
            "align_self": null,
            "border": null,
            "bottom": null,
            "display": null,
            "flex": null,
            "flex_flow": null,
            "grid_area": null,
            "grid_auto_columns": null,
            "grid_auto_flow": null,
            "grid_auto_rows": null,
            "grid_column": null,
            "grid_gap": null,
            "grid_row": null,
            "grid_template_areas": null,
            "grid_template_columns": null,
            "grid_template_rows": null,
            "height": null,
            "justify_content": null,
            "justify_items": null,
            "left": null,
            "margin": null,
            "max_height": null,
            "max_width": null,
            "min_height": null,
            "min_width": null,
            "object_fit": null,
            "object_position": null,
            "order": null,
            "overflow": null,
            "overflow_x": null,
            "overflow_y": null,
            "padding": null,
            "right": null,
            "top": null,
            "visibility": null,
            "width": null
          }
        },
        "920706b9c94440e9b936072ef0e4c7cd": {
          "model_module": "@jupyter-widgets/controls",
          "model_name": "DescriptionStyleModel",
          "model_module_version": "1.5.0",
          "state": {
            "_model_module": "@jupyter-widgets/controls",
            "_model_module_version": "1.5.0",
            "_model_name": "DescriptionStyleModel",
            "_view_count": null,
            "_view_module": "@jupyter-widgets/base",
            "_view_module_version": "1.2.0",
            "_view_name": "StyleView",
            "description_width": ""
          }
        },
        "d6398418fdfd468597e1bc919c8cfecf": {
          "model_module": "@jupyter-widgets/controls",
          "model_name": "HBoxModel",
          "model_module_version": "1.5.0",
          "state": {
            "_dom_classes": [],
            "_model_module": "@jupyter-widgets/controls",
            "_model_module_version": "1.5.0",
            "_model_name": "HBoxModel",
            "_view_count": null,
            "_view_module": "@jupyter-widgets/controls",
            "_view_module_version": "1.5.0",
            "_view_name": "HBoxView",
            "box_style": "",
            "children": [
              "IPY_MODEL_47adeed3ea234832b2d202fdbd50e3ba",
              "IPY_MODEL_5e110c329fac4d13940beeb0daeb210c",
              "IPY_MODEL_2fb15920e2a64155809bf351029ce67e"
            ],
            "layout": "IPY_MODEL_0690d786ff4d4ca4b9e791aea02da840"
          }
        },
        "47adeed3ea234832b2d202fdbd50e3ba": {
          "model_module": "@jupyter-widgets/controls",
          "model_name": "HTMLModel",
          "model_module_version": "1.5.0",
          "state": {
            "_dom_classes": [],
            "_model_module": "@jupyter-widgets/controls",
            "_model_module_version": "1.5.0",
            "_model_name": "HTMLModel",
            "_view_count": null,
            "_view_module": "@jupyter-widgets/controls",
            "_view_module_version": "1.5.0",
            "_view_name": "HTMLView",
            "description": "",
            "description_tooltip": null,
            "layout": "IPY_MODEL_70d7e61c582443febec3069cd1cbb902",
            "placeholder": "​",
            "style": "IPY_MODEL_ee1153ec788747fd9f40c56341c49451",
            "value": "Generating train split: 100%"
          }
        },
        "5e110c329fac4d13940beeb0daeb210c": {
          "model_module": "@jupyter-widgets/controls",
          "model_name": "FloatProgressModel",
          "model_module_version": "1.5.0",
          "state": {
            "_dom_classes": [],
            "_model_module": "@jupyter-widgets/controls",
            "_model_module_version": "1.5.0",
            "_model_name": "FloatProgressModel",
            "_view_count": null,
            "_view_module": "@jupyter-widgets/controls",
            "_view_module_version": "1.5.0",
            "_view_name": "ProgressView",
            "bar_style": "success",
            "description": "",
            "description_tooltip": null,
            "layout": "IPY_MODEL_a6aafe0979de42dc84447ff736af5ca4",
            "max": 10000,
            "min": 0,
            "orientation": "horizontal",
            "style": "IPY_MODEL_7bd41134cf704cbfb60a0acc02d86ad7",
            "value": 10000
          }
        },
        "2fb15920e2a64155809bf351029ce67e": {
          "model_module": "@jupyter-widgets/controls",
          "model_name": "HTMLModel",
          "model_module_version": "1.5.0",
          "state": {
            "_dom_classes": [],
            "_model_module": "@jupyter-widgets/controls",
            "_model_module_version": "1.5.0",
            "_model_name": "HTMLModel",
            "_view_count": null,
            "_view_module": "@jupyter-widgets/controls",
            "_view_module_version": "1.5.0",
            "_view_name": "HTMLView",
            "description": "",
            "description_tooltip": null,
            "layout": "IPY_MODEL_b0f92829cad74f5f940c81738c6cc7d8",
            "placeholder": "​",
            "style": "IPY_MODEL_00a404a3ee0e48d09f58f9553d4f4a9f",
            "value": " 10000/10000 [00:00&lt;00:00, 17601.62 examples/s]"
          }
        },
        "0690d786ff4d4ca4b9e791aea02da840": {
          "model_module": "@jupyter-widgets/base",
          "model_name": "LayoutModel",
          "model_module_version": "1.2.0",
          "state": {
            "_model_module": "@jupyter-widgets/base",
            "_model_module_version": "1.2.0",
            "_model_name": "LayoutModel",
            "_view_count": null,
            "_view_module": "@jupyter-widgets/base",
            "_view_module_version": "1.2.0",
            "_view_name": "LayoutView",
            "align_content": null,
            "align_items": null,
            "align_self": null,
            "border": null,
            "bottom": null,
            "display": null,
            "flex": null,
            "flex_flow": null,
            "grid_area": null,
            "grid_auto_columns": null,
            "grid_auto_flow": null,
            "grid_auto_rows": null,
            "grid_column": null,
            "grid_gap": null,
            "grid_row": null,
            "grid_template_areas": null,
            "grid_template_columns": null,
            "grid_template_rows": null,
            "height": null,
            "justify_content": null,
            "justify_items": null,
            "left": null,
            "margin": null,
            "max_height": null,
            "max_width": null,
            "min_height": null,
            "min_width": null,
            "object_fit": null,
            "object_position": null,
            "order": null,
            "overflow": null,
            "overflow_x": null,
            "overflow_y": null,
            "padding": null,
            "right": null,
            "top": null,
            "visibility": null,
            "width": null
          }
        },
        "70d7e61c582443febec3069cd1cbb902": {
          "model_module": "@jupyter-widgets/base",
          "model_name": "LayoutModel",
          "model_module_version": "1.2.0",
          "state": {
            "_model_module": "@jupyter-widgets/base",
            "_model_module_version": "1.2.0",
            "_model_name": "LayoutModel",
            "_view_count": null,
            "_view_module": "@jupyter-widgets/base",
            "_view_module_version": "1.2.0",
            "_view_name": "LayoutView",
            "align_content": null,
            "align_items": null,
            "align_self": null,
            "border": null,
            "bottom": null,
            "display": null,
            "flex": null,
            "flex_flow": null,
            "grid_area": null,
            "grid_auto_columns": null,
            "grid_auto_flow": null,
            "grid_auto_rows": null,
            "grid_column": null,
            "grid_gap": null,
            "grid_row": null,
            "grid_template_areas": null,
            "grid_template_columns": null,
            "grid_template_rows": null,
            "height": null,
            "justify_content": null,
            "justify_items": null,
            "left": null,
            "margin": null,
            "max_height": null,
            "max_width": null,
            "min_height": null,
            "min_width": null,
            "object_fit": null,
            "object_position": null,
            "order": null,
            "overflow": null,
            "overflow_x": null,
            "overflow_y": null,
            "padding": null,
            "right": null,
            "top": null,
            "visibility": null,
            "width": null
          }
        },
        "ee1153ec788747fd9f40c56341c49451": {
          "model_module": "@jupyter-widgets/controls",
          "model_name": "DescriptionStyleModel",
          "model_module_version": "1.5.0",
          "state": {
            "_model_module": "@jupyter-widgets/controls",
            "_model_module_version": "1.5.0",
            "_model_name": "DescriptionStyleModel",
            "_view_count": null,
            "_view_module": "@jupyter-widgets/base",
            "_view_module_version": "1.2.0",
            "_view_name": "StyleView",
            "description_width": ""
          }
        },
        "a6aafe0979de42dc84447ff736af5ca4": {
          "model_module": "@jupyter-widgets/base",
          "model_name": "LayoutModel",
          "model_module_version": "1.2.0",
          "state": {
            "_model_module": "@jupyter-widgets/base",
            "_model_module_version": "1.2.0",
            "_model_name": "LayoutModel",
            "_view_count": null,
            "_view_module": "@jupyter-widgets/base",
            "_view_module_version": "1.2.0",
            "_view_name": "LayoutView",
            "align_content": null,
            "align_items": null,
            "align_self": null,
            "border": null,
            "bottom": null,
            "display": null,
            "flex": null,
            "flex_flow": null,
            "grid_area": null,
            "grid_auto_columns": null,
            "grid_auto_flow": null,
            "grid_auto_rows": null,
            "grid_column": null,
            "grid_gap": null,
            "grid_row": null,
            "grid_template_areas": null,
            "grid_template_columns": null,
            "grid_template_rows": null,
            "height": null,
            "justify_content": null,
            "justify_items": null,
            "left": null,
            "margin": null,
            "max_height": null,
            "max_width": null,
            "min_height": null,
            "min_width": null,
            "object_fit": null,
            "object_position": null,
            "order": null,
            "overflow": null,
            "overflow_x": null,
            "overflow_y": null,
            "padding": null,
            "right": null,
            "top": null,
            "visibility": null,
            "width": null
          }
        },
        "7bd41134cf704cbfb60a0acc02d86ad7": {
          "model_module": "@jupyter-widgets/controls",
          "model_name": "ProgressStyleModel",
          "model_module_version": "1.5.0",
          "state": {
            "_model_module": "@jupyter-widgets/controls",
            "_model_module_version": "1.5.0",
            "_model_name": "ProgressStyleModel",
            "_view_count": null,
            "_view_module": "@jupyter-widgets/base",
            "_view_module_version": "1.2.0",
            "_view_name": "StyleView",
            "bar_color": null,
            "description_width": ""
          }
        },
        "b0f92829cad74f5f940c81738c6cc7d8": {
          "model_module": "@jupyter-widgets/base",
          "model_name": "LayoutModel",
          "model_module_version": "1.2.0",
          "state": {
            "_model_module": "@jupyter-widgets/base",
            "_model_module_version": "1.2.0",
            "_model_name": "LayoutModel",
            "_view_count": null,
            "_view_module": "@jupyter-widgets/base",
            "_view_module_version": "1.2.0",
            "_view_name": "LayoutView",
            "align_content": null,
            "align_items": null,
            "align_self": null,
            "border": null,
            "bottom": null,
            "display": null,
            "flex": null,
            "flex_flow": null,
            "grid_area": null,
            "grid_auto_columns": null,
            "grid_auto_flow": null,
            "grid_auto_rows": null,
            "grid_column": null,
            "grid_gap": null,
            "grid_row": null,
            "grid_template_areas": null,
            "grid_template_columns": null,
            "grid_template_rows": null,
            "height": null,
            "justify_content": null,
            "justify_items": null,
            "left": null,
            "margin": null,
            "max_height": null,
            "max_width": null,
            "min_height": null,
            "min_width": null,
            "object_fit": null,
            "object_position": null,
            "order": null,
            "overflow": null,
            "overflow_x": null,
            "overflow_y": null,
            "padding": null,
            "right": null,
            "top": null,
            "visibility": null,
            "width": null
          }
        },
        "00a404a3ee0e48d09f58f9553d4f4a9f": {
          "model_module": "@jupyter-widgets/controls",
          "model_name": "DescriptionStyleModel",
          "model_module_version": "1.5.0",
          "state": {
            "_model_module": "@jupyter-widgets/controls",
            "_model_module_version": "1.5.0",
            "_model_name": "DescriptionStyleModel",
            "_view_count": null,
            "_view_module": "@jupyter-widgets/base",
            "_view_module_version": "1.2.0",
            "_view_name": "StyleView",
            "description_width": ""
          }
        }
      }
    }
  },
  "cells": [
    {
      "cell_type": "code",
      "source": [
        "import torch\n",
        "device = 'cuda' if torch.cuda.is_available() else 'cpu'"
      ],
      "metadata": {
        "id": "GM3OMkXyc8tL"
      },
      "execution_count": 1,
      "outputs": []
    },
    {
      "cell_type": "markdown",
      "source": [
        "a. Upload the dataset"
      ],
      "metadata": {
        "id": "fE5oLuSIXOne"
      }
    },
    {
      "cell_type": "code",
      "source": [
        "!pip install datasets"
      ],
      "metadata": {
        "collapsed": true,
        "colab": {
          "base_uri": "https://localhost:8080/"
        },
        "id": "xgytAPn37rty",
        "outputId": "fa465f40-ff97-4d27-d253-f5b7db2c9430"
      },
      "execution_count": 2,
      "outputs": [
        {
          "output_type": "stream",
          "name": "stdout",
          "text": [
            "Collecting datasets\n",
            "  Downloading datasets-2.21.0-py3-none-any.whl.metadata (21 kB)\n",
            "Requirement already satisfied: filelock in /usr/local/lib/python3.10/dist-packages (from datasets) (3.15.4)\n",
            "Requirement already satisfied: numpy>=1.17 in /usr/local/lib/python3.10/dist-packages (from datasets) (1.26.4)\n",
            "Collecting pyarrow>=15.0.0 (from datasets)\n",
            "  Downloading pyarrow-17.0.0-cp310-cp310-manylinux_2_28_x86_64.whl.metadata (3.3 kB)\n",
            "Collecting dill<0.3.9,>=0.3.0 (from datasets)\n",
            "  Downloading dill-0.3.8-py3-none-any.whl.metadata (10 kB)\n",
            "Requirement already satisfied: pandas in /usr/local/lib/python3.10/dist-packages (from datasets) (2.1.4)\n",
            "Requirement already satisfied: requests>=2.32.2 in /usr/local/lib/python3.10/dist-packages (from datasets) (2.32.3)\n",
            "Requirement already satisfied: tqdm>=4.66.3 in /usr/local/lib/python3.10/dist-packages (from datasets) (4.66.5)\n",
            "Collecting xxhash (from datasets)\n",
            "  Downloading xxhash-3.5.0-cp310-cp310-manylinux_2_17_x86_64.manylinux2014_x86_64.whl.metadata (12 kB)\n",
            "Collecting multiprocess (from datasets)\n",
            "  Downloading multiprocess-0.70.16-py310-none-any.whl.metadata (7.2 kB)\n",
            "Requirement already satisfied: fsspec<=2024.6.1,>=2023.1.0 in /usr/local/lib/python3.10/dist-packages (from fsspec[http]<=2024.6.1,>=2023.1.0->datasets) (2024.6.1)\n",
            "Requirement already satisfied: aiohttp in /usr/local/lib/python3.10/dist-packages (from datasets) (3.10.5)\n",
            "Requirement already satisfied: huggingface-hub>=0.21.2 in /usr/local/lib/python3.10/dist-packages (from datasets) (0.24.6)\n",
            "Requirement already satisfied: packaging in /usr/local/lib/python3.10/dist-packages (from datasets) (24.1)\n",
            "Requirement already satisfied: pyyaml>=5.1 in /usr/local/lib/python3.10/dist-packages (from datasets) (6.0.2)\n",
            "Requirement already satisfied: aiohappyeyeballs>=2.3.0 in /usr/local/lib/python3.10/dist-packages (from aiohttp->datasets) (2.4.0)\n",
            "Requirement already satisfied: aiosignal>=1.1.2 in /usr/local/lib/python3.10/dist-packages (from aiohttp->datasets) (1.3.1)\n",
            "Requirement already satisfied: attrs>=17.3.0 in /usr/local/lib/python3.10/dist-packages (from aiohttp->datasets) (24.2.0)\n",
            "Requirement already satisfied: frozenlist>=1.1.1 in /usr/local/lib/python3.10/dist-packages (from aiohttp->datasets) (1.4.1)\n",
            "Requirement already satisfied: multidict<7.0,>=4.5 in /usr/local/lib/python3.10/dist-packages (from aiohttp->datasets) (6.0.5)\n",
            "Requirement already satisfied: yarl<2.0,>=1.0 in /usr/local/lib/python3.10/dist-packages (from aiohttp->datasets) (1.9.4)\n",
            "Requirement already satisfied: async-timeout<5.0,>=4.0 in /usr/local/lib/python3.10/dist-packages (from aiohttp->datasets) (4.0.3)\n",
            "Requirement already satisfied: typing-extensions>=3.7.4.3 in /usr/local/lib/python3.10/dist-packages (from huggingface-hub>=0.21.2->datasets) (4.12.2)\n",
            "Requirement already satisfied: charset-normalizer<4,>=2 in /usr/local/lib/python3.10/dist-packages (from requests>=2.32.2->datasets) (3.3.2)\n",
            "Requirement already satisfied: idna<4,>=2.5 in /usr/local/lib/python3.10/dist-packages (from requests>=2.32.2->datasets) (3.8)\n",
            "Requirement already satisfied: urllib3<3,>=1.21.1 in /usr/local/lib/python3.10/dist-packages (from requests>=2.32.2->datasets) (2.0.7)\n",
            "Requirement already satisfied: certifi>=2017.4.17 in /usr/local/lib/python3.10/dist-packages (from requests>=2.32.2->datasets) (2024.8.30)\n",
            "Requirement already satisfied: python-dateutil>=2.8.2 in /usr/local/lib/python3.10/dist-packages (from pandas->datasets) (2.8.2)\n",
            "Requirement already satisfied: pytz>=2020.1 in /usr/local/lib/python3.10/dist-packages (from pandas->datasets) (2024.1)\n",
            "Requirement already satisfied: tzdata>=2022.1 in /usr/local/lib/python3.10/dist-packages (from pandas->datasets) (2024.1)\n",
            "Requirement already satisfied: six>=1.5 in /usr/local/lib/python3.10/dist-packages (from python-dateutil>=2.8.2->pandas->datasets) (1.16.0)\n",
            "Downloading datasets-2.21.0-py3-none-any.whl (527 kB)\n",
            "\u001b[2K   \u001b[90m━━━━━━━━━━━━━━━━━━━━━━━━━━━━━━━━━━━━━━━━\u001b[0m \u001b[32m527.3/527.3 kB\u001b[0m \u001b[31m16.1 MB/s\u001b[0m eta \u001b[36m0:00:00\u001b[0m\n",
            "\u001b[?25hDownloading dill-0.3.8-py3-none-any.whl (116 kB)\n",
            "\u001b[2K   \u001b[90m━━━━━━━━━━━━━━━━━━━━━━━━━━━━━━━━━━━━━━━━\u001b[0m \u001b[32m116.3/116.3 kB\u001b[0m \u001b[31m10.7 MB/s\u001b[0m eta \u001b[36m0:00:00\u001b[0m\n",
            "\u001b[?25hDownloading pyarrow-17.0.0-cp310-cp310-manylinux_2_28_x86_64.whl (39.9 MB)\n",
            "\u001b[2K   \u001b[90m━━━━━━━━━━━━━━━━━━━━━━━━━━━━━━━━━━━━━━━━\u001b[0m \u001b[32m39.9/39.9 MB\u001b[0m \u001b[31m19.0 MB/s\u001b[0m eta \u001b[36m0:00:00\u001b[0m\n",
            "\u001b[?25hDownloading multiprocess-0.70.16-py310-none-any.whl (134 kB)\n",
            "\u001b[2K   \u001b[90m━━━━━━━━━━━━━━━━━━━━━━━━━━━━━━━━━━━━━━━━\u001b[0m \u001b[32m134.8/134.8 kB\u001b[0m \u001b[31m11.3 MB/s\u001b[0m eta \u001b[36m0:00:00\u001b[0m\n",
            "\u001b[?25hDownloading xxhash-3.5.0-cp310-cp310-manylinux_2_17_x86_64.manylinux2014_x86_64.whl (194 kB)\n",
            "\u001b[2K   \u001b[90m━━━━━━━━━━━━━━━━━━━━━━━━━━━━━━━━━━━━━━━━\u001b[0m \u001b[32m194.1/194.1 kB\u001b[0m \u001b[31m16.3 MB/s\u001b[0m eta \u001b[36m0:00:00\u001b[0m\n",
            "\u001b[?25hInstalling collected packages: xxhash, pyarrow, dill, multiprocess, datasets\n",
            "  Attempting uninstall: pyarrow\n",
            "    Found existing installation: pyarrow 14.0.2\n",
            "    Uninstalling pyarrow-14.0.2:\n",
            "      Successfully uninstalled pyarrow-14.0.2\n",
            "\u001b[31mERROR: pip's dependency resolver does not currently take into account all the packages that are installed. This behaviour is the source of the following dependency conflicts.\n",
            "cudf-cu12 24.4.1 requires pyarrow<15.0.0a0,>=14.0.1, but you have pyarrow 17.0.0 which is incompatible.\n",
            "ibis-framework 8.0.0 requires pyarrow<16,>=2, but you have pyarrow 17.0.0 which is incompatible.\u001b[0m\u001b[31m\n",
            "\u001b[0mSuccessfully installed datasets-2.21.0 dill-0.3.8 multiprocess-0.70.16 pyarrow-17.0.0 xxhash-3.5.0\n"
          ]
        }
      ]
    },
    {
      "cell_type": "code",
      "source": [
        "from datasets import load_dataset\n",
        "ds = load_dataset(\"stas/openwebtext-10k\", split=\"train\")\n",
        "with open(\"complete.txt\", \"w\", encoding=\"utf-8\") as f:\n",
        "    for entry in ds:\n",
        "        f.write(entry['text'] + \"\\n\")\n",
        "\n",
        "with open(\"/content/complete.txt\",'r',encoding='utf-8') as file:\n",
        "  text = file.read()"
      ],
      "metadata": {
        "id": "g4tHc1z5Xeol",
        "colab": {
          "base_uri": "https://localhost:8080/",
          "height": 205,
          "referenced_widgets": [
            "1a720963bfc24cea9731e2d2cbf3d418",
            "dc5371ab57de4213be244dbb2198c91c",
            "2fb357e4221048a1977377c2ec30752a",
            "1a9e28050dc54ac283e9d62fa3cf74a0",
            "6961ba78049643088096e14b1a7948a0",
            "e3455de5ef91489a925610157d7a52f8",
            "5475a9048aa74d328a3d5ab5cf5aa913",
            "e22fb7714d7b4560b5b14d81dab0d3fd",
            "06c68f8c9a134440b17cbe3ac731df70",
            "ee1badd7c1b14321be63ae78b2a6dbcc",
            "920706b9c94440e9b936072ef0e4c7cd",
            "d6398418fdfd468597e1bc919c8cfecf",
            "47adeed3ea234832b2d202fdbd50e3ba",
            "5e110c329fac4d13940beeb0daeb210c",
            "2fb15920e2a64155809bf351029ce67e",
            "0690d786ff4d4ca4b9e791aea02da840",
            "70d7e61c582443febec3069cd1cbb902",
            "ee1153ec788747fd9f40c56341c49451",
            "a6aafe0979de42dc84447ff736af5ca4",
            "7bd41134cf704cbfb60a0acc02d86ad7",
            "b0f92829cad74f5f940c81738c6cc7d8",
            "00a404a3ee0e48d09f58f9553d4f4a9f"
          ]
        },
        "outputId": "dba24d44-20ce-4e8b-9817-c0da1ed0eb8a"
      },
      "execution_count": 3,
      "outputs": [
        {
          "output_type": "stream",
          "name": "stderr",
          "text": [
            "/usr/local/lib/python3.10/dist-packages/huggingface_hub/utils/_token.py:89: UserWarning: \n",
            "The secret `HF_TOKEN` does not exist in your Colab secrets.\n",
            "To authenticate with the Hugging Face Hub, create a token in your settings tab (https://huggingface.co/settings/tokens), set it as secret in your Google Colab and restart your session.\n",
            "You will be able to reuse this secret in all of your notebooks.\n",
            "Please note that authentication is recommended but still optional to access public models or datasets.\n",
            "  warnings.warn(\n"
          ]
        },
        {
          "output_type": "display_data",
          "data": {
            "text/plain": [
              "Downloading data:   0%|          | 0.00/30.3M [00:00<?, ?B/s]"
            ],
            "application/vnd.jupyter.widget-view+json": {
              "version_major": 2,
              "version_minor": 0,
              "model_id": "1a720963bfc24cea9731e2d2cbf3d418"
            }
          },
          "metadata": {}
        },
        {
          "output_type": "display_data",
          "data": {
            "text/plain": [
              "Generating train split:   0%|          | 0/10000 [00:00<?, ? examples/s]"
            ],
            "application/vnd.jupyter.widget-view+json": {
              "version_major": 2,
              "version_minor": 0,
              "model_id": "d6398418fdfd468597e1bc919c8cfecf"
            }
          },
          "metadata": {}
        }
      ]
    },
    {
      "cell_type": "markdown",
      "source": [
        "b.Tokenazing the datset"
      ],
      "metadata": {
        "id": "Yuq8P2ZGX1Dn"
      }
    },
    {
      "cell_type": "code",
      "source": [
        "text_set = sorted(list(set(text)))\n",
        "vocab_size = len(text_set)\n",
        "print(vocab_size)\n",
        "print(text_set[:64])\n",
        "\n",
        "encode = lambda word:[text_set.index(word[i]) for i in range(len(word))]\n",
        "decode = lambda word:''.join([text_set[word[i]] for i in range(len(word))])"
      ],
      "metadata": {
        "colab": {
          "base_uri": "https://localhost:8080/"
        },
        "id": "cbv28xLJXpbF",
        "outputId": "029f4590-d8be-439d-a647-1f3912bf1aaf"
      },
      "execution_count": null,
      "outputs": [
        {
          "output_type": "stream",
          "name": "stdout",
          "text": [
            "65\n",
            "['\\n', ' ', '!', '$', '&', \"'\", ',', '-', '.', '3', ':', ';', '?', 'A', 'B', 'C', 'D', 'E', 'F', 'G', 'H', 'I', 'J', 'K', 'L', 'M', 'N', 'O', 'P', 'Q', 'R', 'S', 'T', 'U', 'V', 'W', 'X', 'Y', 'Z', 'a', 'b', 'c', 'd', 'e', 'f', 'g', 'h', 'i', 'j', 'k', 'l', 'm', 'n', 'o', 'p', 'q', 'r', 's', 't', 'u', 'v', 'w', 'x', 'y']\n"
          ]
        }
      ]
    },
    {
      "cell_type": "code",
      "source": [
        "data = torch.tensor(encode(text))\n",
        "data[:1000]"
      ],
      "metadata": {
        "colab": {
          "base_uri": "https://localhost:8080/"
        },
        "collapsed": true,
        "id": "Ysr_QkceYb45",
        "outputId": "398f19e1-4602-4ec8-d31a-55128b9e3497"
      },
      "execution_count": null,
      "outputs": [
        {
          "output_type": "execute_result",
          "data": {
            "text/plain": [
              "tensor([18, 47, 56, 57, 58,  1, 15, 47, 58, 47, 64, 43, 52, 10,  0, 14, 43, 44,\n",
              "        53, 56, 43,  1, 61, 43,  1, 54, 56, 53, 41, 43, 43, 42,  1, 39, 52, 63,\n",
              "         1, 44, 59, 56, 58, 46, 43, 56,  6,  1, 46, 43, 39, 56,  1, 51, 43,  1,\n",
              "        57, 54, 43, 39, 49,  8,  0,  0, 13, 50, 50, 10,  0, 31, 54, 43, 39, 49,\n",
              "         6,  1, 57, 54, 43, 39, 49,  8,  0,  0, 18, 47, 56, 57, 58,  1, 15, 47,\n",
              "        58, 47, 64, 43, 52, 10,  0, 37, 53, 59,  1, 39, 56, 43,  1, 39, 50, 50,\n",
              "         1, 56, 43, 57, 53, 50, 60, 43, 42,  1, 56, 39, 58, 46, 43, 56,  1, 58,\n",
              "        53,  1, 42, 47, 43,  1, 58, 46, 39, 52,  1, 58, 53,  1, 44, 39, 51, 47,\n",
              "        57, 46, 12,  0,  0, 13, 50, 50, 10,  0, 30, 43, 57, 53, 50, 60, 43, 42,\n",
              "         8,  1, 56, 43, 57, 53, 50, 60, 43, 42,  8,  0,  0, 18, 47, 56, 57, 58,\n",
              "         1, 15, 47, 58, 47, 64, 43, 52, 10,  0, 18, 47, 56, 57, 58,  6,  1, 63,\n",
              "        53, 59,  1, 49, 52, 53, 61,  1, 15, 39, 47, 59, 57,  1, 25, 39, 56, 41,\n",
              "        47, 59, 57,  1, 47, 57,  1, 41, 46, 47, 43, 44,  1, 43, 52, 43, 51, 63,\n",
              "         1, 58, 53,  1, 58, 46, 43,  1, 54, 43, 53, 54, 50, 43,  8,  0,  0, 13,\n",
              "        50, 50, 10,  0, 35, 43,  1, 49, 52, 53, 61,  5, 58,  6,  1, 61, 43,  1,\n",
              "        49, 52, 53, 61,  5, 58,  8,  0,  0, 18, 47, 56, 57, 58,  1, 15, 47, 58,\n",
              "        47, 64, 43, 52, 10,  0, 24, 43, 58,  1, 59, 57,  1, 49, 47, 50, 50,  1,\n",
              "        46, 47, 51,  6,  1, 39, 52, 42,  1, 61, 43,  5, 50, 50,  1, 46, 39, 60,\n",
              "        43,  1, 41, 53, 56, 52,  1, 39, 58,  1, 53, 59, 56,  1, 53, 61, 52,  1,\n",
              "        54, 56, 47, 41, 43,  8,  0, 21, 57,  5, 58,  1, 39,  1, 60, 43, 56, 42,\n",
              "        47, 41, 58, 12,  0,  0, 13, 50, 50, 10,  0, 26, 53,  1, 51, 53, 56, 43,\n",
              "         1, 58, 39, 50, 49, 47, 52, 45,  1, 53, 52,  5, 58, 11,  1, 50, 43, 58,\n",
              "         1, 47, 58,  1, 40, 43,  1, 42, 53, 52, 43, 10,  1, 39, 61, 39, 63,  6,\n",
              "         1, 39, 61, 39, 63,  2,  0,  0, 31, 43, 41, 53, 52, 42,  1, 15, 47, 58,\n",
              "        47, 64, 43, 52, 10,  0, 27, 52, 43,  1, 61, 53, 56, 42,  6,  1, 45, 53,\n",
              "        53, 42,  1, 41, 47, 58, 47, 64, 43, 52, 57,  8,  0,  0, 18, 47, 56, 57,\n",
              "        58,  1, 15, 47, 58, 47, 64, 43, 52, 10,  0, 35, 43,  1, 39, 56, 43,  1,\n",
              "        39, 41, 41, 53, 59, 52, 58, 43, 42,  1, 54, 53, 53, 56,  1, 41, 47, 58,\n",
              "        47, 64, 43, 52, 57,  6,  1, 58, 46, 43,  1, 54, 39, 58, 56, 47, 41, 47,\n",
              "        39, 52, 57,  1, 45, 53, 53, 42,  8,  0, 35, 46, 39, 58,  1, 39, 59, 58,\n",
              "        46, 53, 56, 47, 58, 63,  1, 57, 59, 56, 44, 43, 47, 58, 57,  1, 53, 52,\n",
              "         1, 61, 53, 59, 50, 42,  1, 56, 43, 50, 47, 43, 60, 43,  1, 59, 57, 10,\n",
              "         1, 47, 44,  1, 58, 46, 43, 63,  0, 61, 53, 59, 50, 42,  1, 63, 47, 43,\n",
              "        50, 42,  1, 59, 57,  1, 40, 59, 58,  1, 58, 46, 43,  1, 57, 59, 54, 43,\n",
              "        56, 44, 50, 59, 47, 58, 63,  6,  1, 61, 46, 47, 50, 43,  1, 47, 58,  1,\n",
              "        61, 43, 56, 43,  0, 61, 46, 53, 50, 43, 57, 53, 51, 43,  6,  1, 61, 43,\n",
              "         1, 51, 47, 45, 46, 58,  1, 45, 59, 43, 57, 57,  1, 58, 46, 43, 63,  1,\n",
              "        56, 43, 50, 47, 43, 60, 43, 42,  1, 59, 57,  1, 46, 59, 51, 39, 52, 43,\n",
              "        50, 63, 11,  0, 40, 59, 58,  1, 58, 46, 43, 63,  1, 58, 46, 47, 52, 49,\n",
              "         1, 61, 43,  1, 39, 56, 43,  1, 58, 53, 53,  1, 42, 43, 39, 56, 10,  1,\n",
              "        58, 46, 43,  1, 50, 43, 39, 52, 52, 43, 57, 57,  1, 58, 46, 39, 58,  0,\n",
              "        39, 44, 44, 50, 47, 41, 58, 57,  1, 59, 57,  6,  1, 58, 46, 43,  1, 53,\n",
              "        40, 48, 43, 41, 58,  1, 53, 44,  1, 53, 59, 56,  1, 51, 47, 57, 43, 56,\n",
              "        63,  6,  1, 47, 57,  1, 39, 57,  1, 39, 52,  0, 47, 52, 60, 43, 52, 58,\n",
              "        53, 56, 63,  1, 58, 53,  1, 54, 39, 56, 58, 47, 41, 59, 50, 39, 56, 47,\n",
              "        57, 43,  1, 58, 46, 43, 47, 56,  1, 39, 40, 59, 52, 42, 39, 52, 41, 43,\n",
              "        11,  1, 53, 59, 56,  0, 57, 59, 44, 44, 43, 56, 39, 52, 41, 43,  1, 47,\n",
              "        57,  1, 39,  1, 45, 39, 47, 52,  1, 58, 53,  1, 58, 46, 43, 51,  1, 24,\n",
              "        43, 58,  1, 59, 57,  1, 56, 43, 60, 43, 52, 45, 43,  1, 58, 46, 47, 57,\n",
              "         1, 61, 47, 58, 46,  0, 53, 59, 56,  1, 54, 47, 49, 43, 57,  6,  1, 43,\n",
              "        56, 43,  1, 61, 43,  1, 40, 43, 41, 53, 51, 43,  1, 56, 39, 49, 43, 57,\n",
              "        10,  1, 44, 53, 56,  1, 58, 46, 43,  1, 45, 53, 42, 57,  1, 49, 52, 53,\n",
              "        61,  1, 21,  0, 57, 54, 43, 39, 49,  1, 58, 46, 47, 57,  1, 47, 52,  1,\n",
              "        46, 59, 52, 45, 43, 56,  1, 44, 53, 56,  1, 40, 56, 43, 39, 42,  6,  1,\n",
              "        52, 53, 58,  1, 47, 52,  1, 58, 46, 47, 56, 57, 58,  1, 44, 53, 56,  1,\n",
              "        56, 43, 60, 43, 52, 45, 43,  8,  0,  0])"
            ]
          },
          "metadata": {},
          "execution_count": 5
        }
      ]
    },
    {
      "cell_type": "markdown",
      "source": [
        "c. Spliting the data"
      ],
      "metadata": {
        "id": "dvygiR9jzAWf"
      }
    },
    {
      "cell_type": "code",
      "source": [
        "length = int(len(data)*0.9)\n",
        "train = data[:length]\n",
        "valid = data[length:]\n",
        "\n",
        "batch_size = 8 #number of inputs processed in the same time\n",
        "block_size = 8 #length of the block"
      ],
      "metadata": {
        "id": "wL1gDY6szCvQ"
      },
      "execution_count": null,
      "outputs": []
    },
    {
      "cell_type": "markdown",
      "source": [
        "d. Small batch generation function that we called in every iteration (we can extract huge sequances using random aprroche)"
      ],
      "metadata": {
        "id": "J7ISPWPo2po4"
      }
    },
    {
      "cell_type": "code",
      "source": [
        "def get_batch(split):\n",
        "    data = train if split == 'train' else valid\n",
        "    ix = torch.randint(len(data) - block_size, (batch_size,))\n",
        "    x = torch.stack([data[i:i+block_size] for i in ix])\n",
        "    y = torch.stack([data[i+1:i+block_size+1] for i in ix])\n",
        "    x, y = x.to(device), y.to(device)\n",
        "    return x, y\n",
        "get_batch(\"train\")"
      ],
      "metadata": {
        "colab": {
          "base_uri": "https://localhost:8080/"
        },
        "id": "e7WRSNOHbTai",
        "outputId": "da72bda3-82a8-4a95-b26f-d37f1ad1dbec"
      },
      "execution_count": null,
      "outputs": [
        {
          "output_type": "execute_result",
          "data": {
            "text/plain": [
              "(tensor([[2726,  428, 3592, 2087, 1714,  202,   25,   39],\n",
              "         [ 315,   26, 1133,   43,  681,  103,  612,  938],\n",
              "         [   9, 1410, 2347,    6,  361, 1383,   35,  728],\n",
              "         [ 119,  593,    5,  561,  571,  809,  844, 1245],\n",
              "         [1100,  511,  122, 1140,  349,  217,    9,  189],\n",
              "         [   8, 2964,   61, 1048,  617,  115,    4,   91],\n",
              "         [  14, 3526,  640,  189,   52,  188,   22,    5],\n",
              "         [1221,   30,  805,    8,    4,   76,   63,  213]], device='cuda:0'),\n",
              " tensor([[ 428, 3592, 2087, 1714,  202,   25,   39,   67],\n",
              "         [  26, 1133,   43,  681,  103,  612,  938,   29],\n",
              "         [1410, 2347,    6,  361, 1383,   35,  728,    5],\n",
              "         [ 593,    5,  561,  571,  809,  844, 1245,    3],\n",
              "         [ 511,  122, 1140,  349,  217,    9,  189,  469],\n",
              "         [2964,   61, 1048,  617,  115,    4,   91,  617],\n",
              "         [3526,  640,  189,   52,  188,   22,    5,   52],\n",
              "         [  30,  805,    8,    4,   76,   63,  213,    3]], device='cuda:0'))"
            ]
          },
          "metadata": {},
          "execution_count": 10
        }
      ]
    },
    {
      "cell_type": "code",
      "source": [
        "batch_size = 16 #number of inputs processed in the same time\n",
        "block_size = 32 #length of the block\n",
        "num_iter = 10000\n",
        "learning_rate = 1e-3\n",
        "device = 'cuda' if torch.cuda.is_available() else 'cpu'\n",
        "n_embd = 64 # size of the embeddings for example each token represented with 64 embedding\n",
        "n_head = 4 # number of heads that works in parallel in multi headed\n",
        "num_layers = 5\n",
        "eval_interval = 100 #print losess each 100 iteration\n",
        "eval_iters = 200\n",
        "\n",
        "torch.manual_seed(1337)"
      ],
      "metadata": {
        "id": "1_GKa-IxevbA",
        "colab": {
          "base_uri": "https://localhost:8080/"
        },
        "outputId": "82f8fd19-0fd5-476e-d09c-dc3c0a951933"
      },
      "execution_count": null,
      "outputs": [
        {
          "output_type": "execute_result",
          "data": {
            "text/plain": [
              "<torch._C.Generator at 0x7d8df92e52f0>"
            ]
          },
          "metadata": {},
          "execution_count": 33
        }
      ]
    },
    {
      "cell_type": "markdown",
      "source": [
        "E. create a head classe (represent a head in the architecture)\n",
        "\n",
        "![image_2024-09-03_143311807.png](data:image/png;base64,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)"
      ],
      "metadata": {
        "id": "MVPQH5RnFc8O"
      }
    },
    {
      "cell_type": "code",
      "source": [
        "import torch.nn as nn\n",
        "from torch.nn import functional as F\n",
        "class Head(nn.Module):\n",
        "  # constrcutor to define the linear function\n",
        "  def __init__(self , head_size):\n",
        "    super().__init__()\n",
        "    self.key = nn.Linear(n_embd,head_size,bias=False)\n",
        "    self.query = nn.Linear(n_embd,head_size,bias=False)\n",
        "    self.value = nn.Linear(n_embd,head_size,bias=False)\n",
        "    self.register_buffer('tril',torch.tril(torch.ones(block_size,block_size)))#the masking layer for non ecovered tokens\n",
        "    self.dropout = nn.Dropout(0.0)\n",
        "\n",
        "  #like zipping the pipeline in the multiheaded in one method\n",
        "  def forward(self , x):\n",
        "    B,T,C  = x.shape #storing inpute batch size , the sequance length (token number, carecters in our case) , embedding size\n",
        "    k= self.key(x)\n",
        "    q= self.query(x)\n",
        "    # calculate attention scores (\"affinities\")\n",
        "    wei = q @ k.transpose(-2,-1) * C**-0.5 # a dot product followed by a scaling\n",
        "    wei = wei.masked_fill(self.tril[:T, :T] == 0, float('-inf')) #mask the toen we idn't descover yet\n",
        "    wei = F.softmax(wei, dim=-1)\n",
        "    v = self.value(x)\n",
        "    out = wei @ v\n",
        "    return out\n",
        "\n",
        "class MultiHeadedAttention(nn.Module):\n",
        "    def __init__(self , num_heads , head_size):\n",
        "      super().__init__()\n",
        "      self.heads = nn.ModuleList([Head(head_size) for _ in range(n_head)])\n",
        "      self.proj = nn.Linear(n_embd, n_embd)\n",
        "      self.dropout = nn.Dropout(0.0)\n",
        "\n",
        "    #concatintae the result output heads matrix\n",
        "    def forward(self, x):\n",
        "        out = torch.cat([h(x) for h in self.heads], dim=-1)\n",
        "        out = self.dropout(self.proj(out))\n",
        "        return out\n",
        "\n",
        "class FeedForward(nn.Module):\n",
        "  def __init__(self , n_embd):\n",
        "    super().__init__()\n",
        "    #creating a linear layer followed by a no linearity (using RELU activation)\n",
        "    self.net = nn.Sequential(\n",
        "            nn.Linear(n_embd, 4 * n_embd),\n",
        "            nn.ReLU(),\n",
        "            nn.Linear(4 * n_embd, n_embd),\n",
        "            nn.Dropout(0.0),\n",
        "        )\n",
        "  def forward(self, x):\n",
        "        return self.net(x)\n",
        "\n",
        "\n",
        "class Block(nn.Module):\n",
        "    # in the block we pass the input into a normalization layer and also the output heads\n",
        "    # first for the residual connection + the feature normalization\n",
        "\n",
        "    def __init__(self, n_embd, n_head):\n",
        "        # n_embd: embedding dimension, n_head: the number of heads we'd like\n",
        "        super().__init__()\n",
        "        head_size = n_embd // n_head\n",
        "        self.sa = MultiHeadedAttention(n_head, head_size)\n",
        "        self.ffwd = FeedForward(n_embd)\n",
        "        self.ln1 = nn.LayerNorm(n_embd)\n",
        "        self.ln2 = nn.LayerNorm(n_embd)\n",
        "\n",
        "    def forward(self, x):\n",
        "        x = x + self.sa(self.ln1(x))\n",
        "        x = x + self.ffwd(self.ln2(x))\n",
        "        return x\n",
        "\n"
      ],
      "metadata": {
        "id": "0lZ8XmLZFcTd"
      },
      "execution_count": null,
      "outputs": []
    },
    {
      "cell_type": "code",
      "source": [
        "class BigramLanguageModel(nn.Module):\n",
        "  def __init__(self):\n",
        "    super().__init__()\n",
        "    self.embeddings_table = nn.Embedding(vocab_size,n_embd)\n",
        "    self.position_embeddings = nn.Embedding(block_size,n_embd) #position representation (token 2 is the first , 1 is the second .. etc)\n",
        "    self.blocks = nn.Sequential(*[Block(n_embd, n_head=n_head) for _ in range(num_layers)]) #number of encoder blocks\n",
        "    self.LayerN = nn.LayerNorm(n_embd)\n",
        "    self.lm_head = nn.Linear(n_embd , vocab_size)\n",
        "  def forward(self , idx, targets=None): #generate the logits and the loss in case of training (forward propagtion)\n",
        "    B , T = idx.shape #idx -> input data\n",
        "    token_embd = self.embeddings_table(idx)\n",
        "    pos_embd = self.position_embeddings(torch.arange(T, device=device))\n",
        "    x = token_embd + pos_embd\n",
        "    x = self.blocks(x)\n",
        "    x = self.LayerN(x)\n",
        "    logits = self.lm_head(x) # (B,T,vocab_size)\n",
        "\n",
        "    if targets is None:\n",
        "        loss = None\n",
        "    else:\n",
        "        B, T, C = logits.shape\n",
        "        logits = logits.view(B*T, C)\n",
        "        targets = targets.view(B*T)\n",
        "        loss = F.cross_entropy(logits, targets)\n",
        "\n",
        "    return logits, loss\n",
        "  def generate(self , idx , max_number_tokens):\n",
        "    for _ in range(max_number_tokens):\n",
        "      idx_cond = idx[:, -block_size:]\n",
        "      logits, loss = self(idx_cond)\n",
        "      logits = logits[:, -1, :]\n",
        "      probs = F.softmax(logits, dim=-1)\n",
        "      idx_next = torch.multinomial(probs, num_samples=1)\n",
        "      idx = torch.cat((idx, idx_next), dim=1) # icluding the new token into the new one\n",
        "    return idx\n",
        "\n",
        "@torch.no_grad()\n",
        "def estimate_loss():\n",
        "    out = {}\n",
        "    model.eval()\n",
        "    for split in ['train', 'val']:\n",
        "        losses = torch.zeros(eval_iters)\n",
        "        for k in range(eval_iters):\n",
        "            X, Y = get_batch(split)\n",
        "            logits, loss = model(X, Y)\n",
        "            losses[k] = loss.item()\n",
        "        out[split] = losses.mean()\n",
        "    model.train()\n",
        "    return out\n",
        "\n",
        "model = BigramLanguageModel()\n",
        "m = model.to(device)\n",
        "optimizer = torch.optim.AdamW(model.parameters(), lr=learning_rate)\n",
        "\n",
        "for iter in range(num_iter):\n",
        "\n",
        "    if iter % eval_interval == 0 or iter == num_iter - 1:\n",
        "        losses = estimate_loss()\n",
        "        print(f\"step {iter}: train loss {losses['train']:.4f}, val loss {losses['val']:.4f}\")\n",
        "\n",
        "    xb, yb = get_batch('train')\n",
        "    # evaluate the loss\n",
        "    logits, loss = model(xb, yb)\n",
        "    optimizer.zero_grad(set_to_none=True)\n",
        "    loss.backward()\n",
        "    optimizer.step() # optimizing the weights here\n"
      ],
      "metadata": {
        "id": "mXESEYMBrGRo",
        "colab": {
          "base_uri": "https://localhost:8080/",
          "height": 443
        },
        "outputId": "b6bc0b5d-9fd1-4d71-db00-687f3bd219f5"
      },
      "execution_count": null,
      "outputs": [
        {
          "output_type": "stream",
          "name": "stdout",
          "text": [
            "step 0: train loss 8.1673, val loss 8.1513\n",
            "step 100: train loss 6.2932, val loss 6.3566\n",
            "step 200: train loss 5.9926, val loss 6.0913\n",
            "step 300: train loss 5.6816, val loss 5.8626\n",
            "step 400: train loss 5.4566, val loss 5.6679\n"
          ]
        },
        {
          "output_type": "error",
          "ename": "KeyboardInterrupt",
          "evalue": "",
          "traceback": [
            "\u001b[0;31m---------------------------------------------------------------------------\u001b[0m",
            "\u001b[0;31mKeyboardInterrupt\u001b[0m                         Traceback (most recent call last)",
            "\u001b[0;32m<ipython-input-27-b1f8ddae9bca>\u001b[0m in \u001b[0;36m<cell line: 55>\u001b[0;34m()\u001b[0m\n\u001b[1;32m     56\u001b[0m \u001b[0;34m\u001b[0m\u001b[0m\n\u001b[1;32m     57\u001b[0m     \u001b[0;32mif\u001b[0m \u001b[0miter\u001b[0m \u001b[0;34m%\u001b[0m \u001b[0meval_interval\u001b[0m \u001b[0;34m==\u001b[0m \u001b[0;36m0\u001b[0m \u001b[0;32mor\u001b[0m \u001b[0miter\u001b[0m \u001b[0;34m==\u001b[0m \u001b[0mnum_iter\u001b[0m \u001b[0;34m-\u001b[0m \u001b[0;36m1\u001b[0m\u001b[0;34m:\u001b[0m\u001b[0;34m\u001b[0m\u001b[0;34m\u001b[0m\u001b[0m\n\u001b[0;32m---> 58\u001b[0;31m         \u001b[0mlosses\u001b[0m \u001b[0;34m=\u001b[0m \u001b[0mestimate_loss\u001b[0m\u001b[0;34m(\u001b[0m\u001b[0;34m)\u001b[0m\u001b[0;34m\u001b[0m\u001b[0;34m\u001b[0m\u001b[0m\n\u001b[0m\u001b[1;32m     59\u001b[0m         \u001b[0mprint\u001b[0m\u001b[0;34m(\u001b[0m\u001b[0;34mf\"step {iter}: train loss {losses['train']:.4f}, val loss {losses['val']:.4f}\"\u001b[0m\u001b[0;34m)\u001b[0m\u001b[0;34m\u001b[0m\u001b[0;34m\u001b[0m\u001b[0m\n\u001b[1;32m     60\u001b[0m \u001b[0;34m\u001b[0m\u001b[0m\n",
            "\u001b[0;32m/usr/local/lib/python3.10/dist-packages/torch/utils/_contextlib.py\u001b[0m in \u001b[0;36mdecorate_context\u001b[0;34m(*args, **kwargs)\u001b[0m\n\u001b[1;32m    114\u001b[0m     \u001b[0;32mdef\u001b[0m \u001b[0mdecorate_context\u001b[0m\u001b[0;34m(\u001b[0m\u001b[0;34m*\u001b[0m\u001b[0margs\u001b[0m\u001b[0;34m,\u001b[0m \u001b[0;34m**\u001b[0m\u001b[0mkwargs\u001b[0m\u001b[0;34m)\u001b[0m\u001b[0;34m:\u001b[0m\u001b[0;34m\u001b[0m\u001b[0;34m\u001b[0m\u001b[0m\n\u001b[1;32m    115\u001b[0m         \u001b[0;32mwith\u001b[0m \u001b[0mctx_factory\u001b[0m\u001b[0;34m(\u001b[0m\u001b[0;34m)\u001b[0m\u001b[0;34m:\u001b[0m\u001b[0;34m\u001b[0m\u001b[0;34m\u001b[0m\u001b[0m\n\u001b[0;32m--> 116\u001b[0;31m             \u001b[0;32mreturn\u001b[0m \u001b[0mfunc\u001b[0m\u001b[0;34m(\u001b[0m\u001b[0;34m*\u001b[0m\u001b[0margs\u001b[0m\u001b[0;34m,\u001b[0m \u001b[0;34m**\u001b[0m\u001b[0mkwargs\u001b[0m\u001b[0;34m)\u001b[0m\u001b[0;34m\u001b[0m\u001b[0;34m\u001b[0m\u001b[0m\n\u001b[0m\u001b[1;32m    117\u001b[0m \u001b[0;34m\u001b[0m\u001b[0m\n\u001b[1;32m    118\u001b[0m     \u001b[0;32mreturn\u001b[0m \u001b[0mdecorate_context\u001b[0m\u001b[0;34m\u001b[0m\u001b[0;34m\u001b[0m\u001b[0m\n",
            "\u001b[0;32m<ipython-input-27-b1f8ddae9bca>\u001b[0m in \u001b[0;36mestimate_loss\u001b[0;34m()\u001b[0m\n\u001b[1;32m     43\u001b[0m         \u001b[0;32mfor\u001b[0m \u001b[0mk\u001b[0m \u001b[0;32min\u001b[0m \u001b[0mrange\u001b[0m\u001b[0;34m(\u001b[0m\u001b[0meval_iters\u001b[0m\u001b[0;34m)\u001b[0m\u001b[0;34m:\u001b[0m\u001b[0;34m\u001b[0m\u001b[0;34m\u001b[0m\u001b[0m\n\u001b[1;32m     44\u001b[0m             \u001b[0mX\u001b[0m\u001b[0;34m,\u001b[0m \u001b[0mY\u001b[0m \u001b[0;34m=\u001b[0m \u001b[0mget_batch\u001b[0m\u001b[0;34m(\u001b[0m\u001b[0msplit\u001b[0m\u001b[0;34m)\u001b[0m\u001b[0;34m\u001b[0m\u001b[0;34m\u001b[0m\u001b[0m\n\u001b[0;32m---> 45\u001b[0;31m             \u001b[0mlogits\u001b[0m\u001b[0;34m,\u001b[0m \u001b[0mloss\u001b[0m \u001b[0;34m=\u001b[0m \u001b[0mmodel\u001b[0m\u001b[0;34m(\u001b[0m\u001b[0mX\u001b[0m\u001b[0;34m,\u001b[0m \u001b[0mY\u001b[0m\u001b[0;34m)\u001b[0m\u001b[0;34m\u001b[0m\u001b[0;34m\u001b[0m\u001b[0m\n\u001b[0m\u001b[1;32m     46\u001b[0m             \u001b[0mlosses\u001b[0m\u001b[0;34m[\u001b[0m\u001b[0mk\u001b[0m\u001b[0;34m]\u001b[0m \u001b[0;34m=\u001b[0m \u001b[0mloss\u001b[0m\u001b[0;34m.\u001b[0m\u001b[0mitem\u001b[0m\u001b[0;34m(\u001b[0m\u001b[0;34m)\u001b[0m\u001b[0;34m\u001b[0m\u001b[0;34m\u001b[0m\u001b[0m\n\u001b[1;32m     47\u001b[0m         \u001b[0mout\u001b[0m\u001b[0;34m[\u001b[0m\u001b[0msplit\u001b[0m\u001b[0;34m]\u001b[0m \u001b[0;34m=\u001b[0m \u001b[0mlosses\u001b[0m\u001b[0;34m.\u001b[0m\u001b[0mmean\u001b[0m\u001b[0;34m(\u001b[0m\u001b[0;34m)\u001b[0m\u001b[0;34m\u001b[0m\u001b[0;34m\u001b[0m\u001b[0m\n",
            "\u001b[0;32m/usr/local/lib/python3.10/dist-packages/torch/nn/modules/module.py\u001b[0m in \u001b[0;36m_wrapped_call_impl\u001b[0;34m(self, *args, **kwargs)\u001b[0m\n\u001b[1;32m   1551\u001b[0m             \u001b[0;32mreturn\u001b[0m \u001b[0mself\u001b[0m\u001b[0;34m.\u001b[0m\u001b[0m_compiled_call_impl\u001b[0m\u001b[0;34m(\u001b[0m\u001b[0;34m*\u001b[0m\u001b[0margs\u001b[0m\u001b[0;34m,\u001b[0m \u001b[0;34m**\u001b[0m\u001b[0mkwargs\u001b[0m\u001b[0;34m)\u001b[0m  \u001b[0;31m# type: ignore[misc]\u001b[0m\u001b[0;34m\u001b[0m\u001b[0;34m\u001b[0m\u001b[0m\n\u001b[1;32m   1552\u001b[0m         \u001b[0;32melse\u001b[0m\u001b[0;34m:\u001b[0m\u001b[0;34m\u001b[0m\u001b[0;34m\u001b[0m\u001b[0m\n\u001b[0;32m-> 1553\u001b[0;31m             \u001b[0;32mreturn\u001b[0m \u001b[0mself\u001b[0m\u001b[0;34m.\u001b[0m\u001b[0m_call_impl\u001b[0m\u001b[0;34m(\u001b[0m\u001b[0;34m*\u001b[0m\u001b[0margs\u001b[0m\u001b[0;34m,\u001b[0m \u001b[0;34m**\u001b[0m\u001b[0mkwargs\u001b[0m\u001b[0;34m)\u001b[0m\u001b[0;34m\u001b[0m\u001b[0;34m\u001b[0m\u001b[0m\n\u001b[0m\u001b[1;32m   1554\u001b[0m \u001b[0;34m\u001b[0m\u001b[0m\n\u001b[1;32m   1555\u001b[0m     \u001b[0;32mdef\u001b[0m \u001b[0m_call_impl\u001b[0m\u001b[0;34m(\u001b[0m\u001b[0mself\u001b[0m\u001b[0;34m,\u001b[0m \u001b[0;34m*\u001b[0m\u001b[0margs\u001b[0m\u001b[0;34m,\u001b[0m \u001b[0;34m**\u001b[0m\u001b[0mkwargs\u001b[0m\u001b[0;34m)\u001b[0m\u001b[0;34m:\u001b[0m\u001b[0;34m\u001b[0m\u001b[0;34m\u001b[0m\u001b[0m\n",
            "\u001b[0;32m/usr/local/lib/python3.10/dist-packages/torch/nn/modules/module.py\u001b[0m in \u001b[0;36m_call_impl\u001b[0;34m(self, *args, **kwargs)\u001b[0m\n\u001b[1;32m   1560\u001b[0m                 \u001b[0;32mor\u001b[0m \u001b[0m_global_backward_pre_hooks\u001b[0m \u001b[0;32mor\u001b[0m \u001b[0m_global_backward_hooks\u001b[0m\u001b[0;34m\u001b[0m\u001b[0;34m\u001b[0m\u001b[0m\n\u001b[1;32m   1561\u001b[0m                 or _global_forward_hooks or _global_forward_pre_hooks):\n\u001b[0;32m-> 1562\u001b[0;31m             \u001b[0;32mreturn\u001b[0m \u001b[0mforward_call\u001b[0m\u001b[0;34m(\u001b[0m\u001b[0;34m*\u001b[0m\u001b[0margs\u001b[0m\u001b[0;34m,\u001b[0m \u001b[0;34m**\u001b[0m\u001b[0mkwargs\u001b[0m\u001b[0;34m)\u001b[0m\u001b[0;34m\u001b[0m\u001b[0;34m\u001b[0m\u001b[0m\n\u001b[0m\u001b[1;32m   1563\u001b[0m \u001b[0;34m\u001b[0m\u001b[0m\n\u001b[1;32m   1564\u001b[0m         \u001b[0;32mtry\u001b[0m\u001b[0;34m:\u001b[0m\u001b[0;34m\u001b[0m\u001b[0;34m\u001b[0m\u001b[0m\n",
            "\u001b[0;32m<ipython-input-27-b1f8ddae9bca>\u001b[0m in \u001b[0;36mforward\u001b[0;34m(self, idx, targets)\u001b[0m\n\u001b[1;32m     12\u001b[0m     \u001b[0mpos_embd\u001b[0m \u001b[0;34m=\u001b[0m \u001b[0mself\u001b[0m\u001b[0;34m.\u001b[0m\u001b[0mposition_embeddings\u001b[0m\u001b[0;34m(\u001b[0m\u001b[0mtorch\u001b[0m\u001b[0;34m.\u001b[0m\u001b[0marange\u001b[0m\u001b[0;34m(\u001b[0m\u001b[0mT\u001b[0m\u001b[0;34m,\u001b[0m \u001b[0mdevice\u001b[0m\u001b[0;34m=\u001b[0m\u001b[0mdevice\u001b[0m\u001b[0;34m)\u001b[0m\u001b[0;34m)\u001b[0m\u001b[0;34m\u001b[0m\u001b[0;34m\u001b[0m\u001b[0m\n\u001b[1;32m     13\u001b[0m     \u001b[0mx\u001b[0m \u001b[0;34m=\u001b[0m \u001b[0mtoken_embd\u001b[0m \u001b[0;34m+\u001b[0m \u001b[0mpos_embd\u001b[0m\u001b[0;34m\u001b[0m\u001b[0;34m\u001b[0m\u001b[0m\n\u001b[0;32m---> 14\u001b[0;31m     \u001b[0mx\u001b[0m \u001b[0;34m=\u001b[0m \u001b[0mself\u001b[0m\u001b[0;34m.\u001b[0m\u001b[0mblocks\u001b[0m\u001b[0;34m(\u001b[0m\u001b[0mx\u001b[0m\u001b[0;34m)\u001b[0m\u001b[0;34m\u001b[0m\u001b[0;34m\u001b[0m\u001b[0m\n\u001b[0m\u001b[1;32m     15\u001b[0m     \u001b[0mx\u001b[0m \u001b[0;34m=\u001b[0m \u001b[0mself\u001b[0m\u001b[0;34m.\u001b[0m\u001b[0mLayerN\u001b[0m\u001b[0;34m(\u001b[0m\u001b[0mx\u001b[0m\u001b[0;34m)\u001b[0m\u001b[0;34m\u001b[0m\u001b[0;34m\u001b[0m\u001b[0m\n\u001b[1;32m     16\u001b[0m     \u001b[0mlogits\u001b[0m \u001b[0;34m=\u001b[0m \u001b[0mself\u001b[0m\u001b[0;34m.\u001b[0m\u001b[0mlm_head\u001b[0m\u001b[0;34m(\u001b[0m\u001b[0mx\u001b[0m\u001b[0;34m)\u001b[0m \u001b[0;31m# (B,T,vocab_size)\u001b[0m\u001b[0;34m\u001b[0m\u001b[0;34m\u001b[0m\u001b[0m\n",
            "\u001b[0;32m/usr/local/lib/python3.10/dist-packages/torch/nn/modules/module.py\u001b[0m in \u001b[0;36m_wrapped_call_impl\u001b[0;34m(self, *args, **kwargs)\u001b[0m\n\u001b[1;32m   1551\u001b[0m             \u001b[0;32mreturn\u001b[0m \u001b[0mself\u001b[0m\u001b[0;34m.\u001b[0m\u001b[0m_compiled_call_impl\u001b[0m\u001b[0;34m(\u001b[0m\u001b[0;34m*\u001b[0m\u001b[0margs\u001b[0m\u001b[0;34m,\u001b[0m \u001b[0;34m**\u001b[0m\u001b[0mkwargs\u001b[0m\u001b[0;34m)\u001b[0m  \u001b[0;31m# type: ignore[misc]\u001b[0m\u001b[0;34m\u001b[0m\u001b[0;34m\u001b[0m\u001b[0m\n\u001b[1;32m   1552\u001b[0m         \u001b[0;32melse\u001b[0m\u001b[0;34m:\u001b[0m\u001b[0;34m\u001b[0m\u001b[0;34m\u001b[0m\u001b[0m\n\u001b[0;32m-> 1553\u001b[0;31m             \u001b[0;32mreturn\u001b[0m \u001b[0mself\u001b[0m\u001b[0;34m.\u001b[0m\u001b[0m_call_impl\u001b[0m\u001b[0;34m(\u001b[0m\u001b[0;34m*\u001b[0m\u001b[0margs\u001b[0m\u001b[0;34m,\u001b[0m \u001b[0;34m**\u001b[0m\u001b[0mkwargs\u001b[0m\u001b[0;34m)\u001b[0m\u001b[0;34m\u001b[0m\u001b[0;34m\u001b[0m\u001b[0m\n\u001b[0m\u001b[1;32m   1554\u001b[0m \u001b[0;34m\u001b[0m\u001b[0m\n\u001b[1;32m   1555\u001b[0m     \u001b[0;32mdef\u001b[0m \u001b[0m_call_impl\u001b[0m\u001b[0;34m(\u001b[0m\u001b[0mself\u001b[0m\u001b[0;34m,\u001b[0m \u001b[0;34m*\u001b[0m\u001b[0margs\u001b[0m\u001b[0;34m,\u001b[0m \u001b[0;34m**\u001b[0m\u001b[0mkwargs\u001b[0m\u001b[0;34m)\u001b[0m\u001b[0;34m:\u001b[0m\u001b[0;34m\u001b[0m\u001b[0;34m\u001b[0m\u001b[0m\n",
            "\u001b[0;32m/usr/local/lib/python3.10/dist-packages/torch/nn/modules/module.py\u001b[0m in \u001b[0;36m_call_impl\u001b[0;34m(self, *args, **kwargs)\u001b[0m\n\u001b[1;32m   1560\u001b[0m                 \u001b[0;32mor\u001b[0m \u001b[0m_global_backward_pre_hooks\u001b[0m \u001b[0;32mor\u001b[0m \u001b[0m_global_backward_hooks\u001b[0m\u001b[0;34m\u001b[0m\u001b[0;34m\u001b[0m\u001b[0m\n\u001b[1;32m   1561\u001b[0m                 or _global_forward_hooks or _global_forward_pre_hooks):\n\u001b[0;32m-> 1562\u001b[0;31m             \u001b[0;32mreturn\u001b[0m \u001b[0mforward_call\u001b[0m\u001b[0;34m(\u001b[0m\u001b[0;34m*\u001b[0m\u001b[0margs\u001b[0m\u001b[0;34m,\u001b[0m \u001b[0;34m**\u001b[0m\u001b[0mkwargs\u001b[0m\u001b[0;34m)\u001b[0m\u001b[0;34m\u001b[0m\u001b[0;34m\u001b[0m\u001b[0m\n\u001b[0m\u001b[1;32m   1563\u001b[0m \u001b[0;34m\u001b[0m\u001b[0m\n\u001b[1;32m   1564\u001b[0m         \u001b[0;32mtry\u001b[0m\u001b[0;34m:\u001b[0m\u001b[0;34m\u001b[0m\u001b[0;34m\u001b[0m\u001b[0m\n",
            "\u001b[0;32m/usr/local/lib/python3.10/dist-packages/torch/nn/modules/container.py\u001b[0m in \u001b[0;36mforward\u001b[0;34m(self, input)\u001b[0m\n\u001b[1;32m    217\u001b[0m     \u001b[0;32mdef\u001b[0m \u001b[0mforward\u001b[0m\u001b[0;34m(\u001b[0m\u001b[0mself\u001b[0m\u001b[0;34m,\u001b[0m \u001b[0minput\u001b[0m\u001b[0;34m)\u001b[0m\u001b[0;34m:\u001b[0m\u001b[0;34m\u001b[0m\u001b[0;34m\u001b[0m\u001b[0m\n\u001b[1;32m    218\u001b[0m         \u001b[0;32mfor\u001b[0m \u001b[0mmodule\u001b[0m \u001b[0;32min\u001b[0m \u001b[0mself\u001b[0m\u001b[0;34m:\u001b[0m\u001b[0;34m\u001b[0m\u001b[0;34m\u001b[0m\u001b[0m\n\u001b[0;32m--> 219\u001b[0;31m             \u001b[0minput\u001b[0m \u001b[0;34m=\u001b[0m \u001b[0mmodule\u001b[0m\u001b[0;34m(\u001b[0m\u001b[0minput\u001b[0m\u001b[0;34m)\u001b[0m\u001b[0;34m\u001b[0m\u001b[0;34m\u001b[0m\u001b[0m\n\u001b[0m\u001b[1;32m    220\u001b[0m         \u001b[0;32mreturn\u001b[0m \u001b[0minput\u001b[0m\u001b[0;34m\u001b[0m\u001b[0;34m\u001b[0m\u001b[0m\n\u001b[1;32m    221\u001b[0m \u001b[0;34m\u001b[0m\u001b[0m\n",
            "\u001b[0;32m/usr/local/lib/python3.10/dist-packages/torch/nn/modules/module.py\u001b[0m in \u001b[0;36m_wrapped_call_impl\u001b[0;34m(self, *args, **kwargs)\u001b[0m\n\u001b[1;32m   1551\u001b[0m             \u001b[0;32mreturn\u001b[0m \u001b[0mself\u001b[0m\u001b[0;34m.\u001b[0m\u001b[0m_compiled_call_impl\u001b[0m\u001b[0;34m(\u001b[0m\u001b[0;34m*\u001b[0m\u001b[0margs\u001b[0m\u001b[0;34m,\u001b[0m \u001b[0;34m**\u001b[0m\u001b[0mkwargs\u001b[0m\u001b[0;34m)\u001b[0m  \u001b[0;31m# type: ignore[misc]\u001b[0m\u001b[0;34m\u001b[0m\u001b[0;34m\u001b[0m\u001b[0m\n\u001b[1;32m   1552\u001b[0m         \u001b[0;32melse\u001b[0m\u001b[0;34m:\u001b[0m\u001b[0;34m\u001b[0m\u001b[0;34m\u001b[0m\u001b[0m\n\u001b[0;32m-> 1553\u001b[0;31m             \u001b[0;32mreturn\u001b[0m \u001b[0mself\u001b[0m\u001b[0;34m.\u001b[0m\u001b[0m_call_impl\u001b[0m\u001b[0;34m(\u001b[0m\u001b[0;34m*\u001b[0m\u001b[0margs\u001b[0m\u001b[0;34m,\u001b[0m \u001b[0;34m**\u001b[0m\u001b[0mkwargs\u001b[0m\u001b[0;34m)\u001b[0m\u001b[0;34m\u001b[0m\u001b[0;34m\u001b[0m\u001b[0m\n\u001b[0m\u001b[1;32m   1554\u001b[0m \u001b[0;34m\u001b[0m\u001b[0m\n\u001b[1;32m   1555\u001b[0m     \u001b[0;32mdef\u001b[0m \u001b[0m_call_impl\u001b[0m\u001b[0;34m(\u001b[0m\u001b[0mself\u001b[0m\u001b[0;34m,\u001b[0m \u001b[0;34m*\u001b[0m\u001b[0margs\u001b[0m\u001b[0;34m,\u001b[0m \u001b[0;34m**\u001b[0m\u001b[0mkwargs\u001b[0m\u001b[0;34m)\u001b[0m\u001b[0;34m:\u001b[0m\u001b[0;34m\u001b[0m\u001b[0;34m\u001b[0m\u001b[0m\n",
            "\u001b[0;32m/usr/local/lib/python3.10/dist-packages/torch/nn/modules/module.py\u001b[0m in \u001b[0;36m_call_impl\u001b[0;34m(self, *args, **kwargs)\u001b[0m\n\u001b[1;32m   1560\u001b[0m                 \u001b[0;32mor\u001b[0m \u001b[0m_global_backward_pre_hooks\u001b[0m \u001b[0;32mor\u001b[0m \u001b[0m_global_backward_hooks\u001b[0m\u001b[0;34m\u001b[0m\u001b[0;34m\u001b[0m\u001b[0m\n\u001b[1;32m   1561\u001b[0m                 or _global_forward_hooks or _global_forward_pre_hooks):\n\u001b[0;32m-> 1562\u001b[0;31m             \u001b[0;32mreturn\u001b[0m \u001b[0mforward_call\u001b[0m\u001b[0;34m(\u001b[0m\u001b[0;34m*\u001b[0m\u001b[0margs\u001b[0m\u001b[0;34m,\u001b[0m \u001b[0;34m**\u001b[0m\u001b[0mkwargs\u001b[0m\u001b[0;34m)\u001b[0m\u001b[0;34m\u001b[0m\u001b[0;34m\u001b[0m\u001b[0m\n\u001b[0m\u001b[1;32m   1563\u001b[0m \u001b[0;34m\u001b[0m\u001b[0m\n\u001b[1;32m   1564\u001b[0m         \u001b[0;32mtry\u001b[0m\u001b[0;34m:\u001b[0m\u001b[0;34m\u001b[0m\u001b[0;34m\u001b[0m\u001b[0m\n",
            "\u001b[0;32m<ipython-input-26-f88afe3353f2>\u001b[0m in \u001b[0;36mforward\u001b[0;34m(self, x)\u001b[0m\n\u001b[1;32m     65\u001b[0m \u001b[0;34m\u001b[0m\u001b[0m\n\u001b[1;32m     66\u001b[0m     \u001b[0;32mdef\u001b[0m \u001b[0mforward\u001b[0m\u001b[0;34m(\u001b[0m\u001b[0mself\u001b[0m\u001b[0;34m,\u001b[0m \u001b[0mx\u001b[0m\u001b[0;34m)\u001b[0m\u001b[0;34m:\u001b[0m\u001b[0;34m\u001b[0m\u001b[0;34m\u001b[0m\u001b[0m\n\u001b[0;32m---> 67\u001b[0;31m         \u001b[0mx\u001b[0m \u001b[0;34m=\u001b[0m \u001b[0mx\u001b[0m \u001b[0;34m+\u001b[0m \u001b[0mself\u001b[0m\u001b[0;34m.\u001b[0m\u001b[0msa\u001b[0m\u001b[0;34m(\u001b[0m\u001b[0mself\u001b[0m\u001b[0;34m.\u001b[0m\u001b[0mln1\u001b[0m\u001b[0;34m(\u001b[0m\u001b[0mx\u001b[0m\u001b[0;34m)\u001b[0m\u001b[0;34m)\u001b[0m\u001b[0;34m\u001b[0m\u001b[0;34m\u001b[0m\u001b[0m\n\u001b[0m\u001b[1;32m     68\u001b[0m         \u001b[0mx\u001b[0m \u001b[0;34m=\u001b[0m \u001b[0mx\u001b[0m \u001b[0;34m+\u001b[0m \u001b[0mself\u001b[0m\u001b[0;34m.\u001b[0m\u001b[0mffwd\u001b[0m\u001b[0;34m(\u001b[0m\u001b[0mself\u001b[0m\u001b[0;34m.\u001b[0m\u001b[0mln2\u001b[0m\u001b[0;34m(\u001b[0m\u001b[0mx\u001b[0m\u001b[0;34m)\u001b[0m\u001b[0;34m)\u001b[0m\u001b[0;34m\u001b[0m\u001b[0;34m\u001b[0m\u001b[0m\n\u001b[1;32m     69\u001b[0m         \u001b[0;32mreturn\u001b[0m \u001b[0mx\u001b[0m\u001b[0;34m\u001b[0m\u001b[0;34m\u001b[0m\u001b[0m\n",
            "\u001b[0;32m/usr/local/lib/python3.10/dist-packages/torch/nn/modules/module.py\u001b[0m in \u001b[0;36m_wrapped_call_impl\u001b[0;34m(self, *args, **kwargs)\u001b[0m\n\u001b[1;32m   1551\u001b[0m             \u001b[0;32mreturn\u001b[0m \u001b[0mself\u001b[0m\u001b[0;34m.\u001b[0m\u001b[0m_compiled_call_impl\u001b[0m\u001b[0;34m(\u001b[0m\u001b[0;34m*\u001b[0m\u001b[0margs\u001b[0m\u001b[0;34m,\u001b[0m \u001b[0;34m**\u001b[0m\u001b[0mkwargs\u001b[0m\u001b[0;34m)\u001b[0m  \u001b[0;31m# type: ignore[misc]\u001b[0m\u001b[0;34m\u001b[0m\u001b[0;34m\u001b[0m\u001b[0m\n\u001b[1;32m   1552\u001b[0m         \u001b[0;32melse\u001b[0m\u001b[0;34m:\u001b[0m\u001b[0;34m\u001b[0m\u001b[0;34m\u001b[0m\u001b[0m\n\u001b[0;32m-> 1553\u001b[0;31m             \u001b[0;32mreturn\u001b[0m \u001b[0mself\u001b[0m\u001b[0;34m.\u001b[0m\u001b[0m_call_impl\u001b[0m\u001b[0;34m(\u001b[0m\u001b[0;34m*\u001b[0m\u001b[0margs\u001b[0m\u001b[0;34m,\u001b[0m \u001b[0;34m**\u001b[0m\u001b[0mkwargs\u001b[0m\u001b[0;34m)\u001b[0m\u001b[0;34m\u001b[0m\u001b[0;34m\u001b[0m\u001b[0m\n\u001b[0m\u001b[1;32m   1554\u001b[0m \u001b[0;34m\u001b[0m\u001b[0m\n\u001b[1;32m   1555\u001b[0m     \u001b[0;32mdef\u001b[0m \u001b[0m_call_impl\u001b[0m\u001b[0;34m(\u001b[0m\u001b[0mself\u001b[0m\u001b[0;34m,\u001b[0m \u001b[0;34m*\u001b[0m\u001b[0margs\u001b[0m\u001b[0;34m,\u001b[0m \u001b[0;34m**\u001b[0m\u001b[0mkwargs\u001b[0m\u001b[0;34m)\u001b[0m\u001b[0;34m:\u001b[0m\u001b[0;34m\u001b[0m\u001b[0;34m\u001b[0m\u001b[0m\n",
            "\u001b[0;32m/usr/local/lib/python3.10/dist-packages/torch/nn/modules/module.py\u001b[0m in \u001b[0;36m_call_impl\u001b[0;34m(self, *args, **kwargs)\u001b[0m\n\u001b[1;32m   1560\u001b[0m                 \u001b[0;32mor\u001b[0m \u001b[0m_global_backward_pre_hooks\u001b[0m \u001b[0;32mor\u001b[0m \u001b[0m_global_backward_hooks\u001b[0m\u001b[0;34m\u001b[0m\u001b[0;34m\u001b[0m\u001b[0m\n\u001b[1;32m   1561\u001b[0m                 or _global_forward_hooks or _global_forward_pre_hooks):\n\u001b[0;32m-> 1562\u001b[0;31m             \u001b[0;32mreturn\u001b[0m \u001b[0mforward_call\u001b[0m\u001b[0;34m(\u001b[0m\u001b[0;34m*\u001b[0m\u001b[0margs\u001b[0m\u001b[0;34m,\u001b[0m \u001b[0;34m**\u001b[0m\u001b[0mkwargs\u001b[0m\u001b[0;34m)\u001b[0m\u001b[0;34m\u001b[0m\u001b[0;34m\u001b[0m\u001b[0m\n\u001b[0m\u001b[1;32m   1563\u001b[0m \u001b[0;34m\u001b[0m\u001b[0m\n\u001b[1;32m   1564\u001b[0m         \u001b[0;32mtry\u001b[0m\u001b[0;34m:\u001b[0m\u001b[0;34m\u001b[0m\u001b[0;34m\u001b[0m\u001b[0m\n",
            "\u001b[0;32m<ipython-input-26-f88afe3353f2>\u001b[0m in \u001b[0;36mforward\u001b[0;34m(self, x)\u001b[0m\n\u001b[1;32m     33\u001b[0m     \u001b[0;31m#concatintae the result output heads matrix\u001b[0m\u001b[0;34m\u001b[0m\u001b[0;34m\u001b[0m\u001b[0m\n\u001b[1;32m     34\u001b[0m     \u001b[0;32mdef\u001b[0m \u001b[0mforward\u001b[0m\u001b[0;34m(\u001b[0m\u001b[0mself\u001b[0m\u001b[0;34m,\u001b[0m \u001b[0mx\u001b[0m\u001b[0;34m)\u001b[0m\u001b[0;34m:\u001b[0m\u001b[0;34m\u001b[0m\u001b[0;34m\u001b[0m\u001b[0m\n\u001b[0;32m---> 35\u001b[0;31m         \u001b[0mout\u001b[0m \u001b[0;34m=\u001b[0m \u001b[0mtorch\u001b[0m\u001b[0;34m.\u001b[0m\u001b[0mcat\u001b[0m\u001b[0;34m(\u001b[0m\u001b[0;34m[\u001b[0m\u001b[0mh\u001b[0m\u001b[0;34m(\u001b[0m\u001b[0mx\u001b[0m\u001b[0;34m)\u001b[0m \u001b[0;32mfor\u001b[0m \u001b[0mh\u001b[0m \u001b[0;32min\u001b[0m \u001b[0mself\u001b[0m\u001b[0;34m.\u001b[0m\u001b[0mheads\u001b[0m\u001b[0;34m]\u001b[0m\u001b[0;34m,\u001b[0m \u001b[0mdim\u001b[0m\u001b[0;34m=\u001b[0m\u001b[0;34m-\u001b[0m\u001b[0;36m1\u001b[0m\u001b[0;34m)\u001b[0m\u001b[0;34m\u001b[0m\u001b[0;34m\u001b[0m\u001b[0m\n\u001b[0m\u001b[1;32m     36\u001b[0m         \u001b[0mout\u001b[0m \u001b[0;34m=\u001b[0m \u001b[0mself\u001b[0m\u001b[0;34m.\u001b[0m\u001b[0mdropout\u001b[0m\u001b[0;34m(\u001b[0m\u001b[0mself\u001b[0m\u001b[0;34m.\u001b[0m\u001b[0mproj\u001b[0m\u001b[0;34m(\u001b[0m\u001b[0mout\u001b[0m\u001b[0;34m)\u001b[0m\u001b[0;34m)\u001b[0m\u001b[0;34m\u001b[0m\u001b[0;34m\u001b[0m\u001b[0m\n\u001b[1;32m     37\u001b[0m         \u001b[0;32mreturn\u001b[0m \u001b[0mout\u001b[0m\u001b[0;34m\u001b[0m\u001b[0;34m\u001b[0m\u001b[0m\n",
            "\u001b[0;32m<ipython-input-26-f88afe3353f2>\u001b[0m in \u001b[0;36m<listcomp>\u001b[0;34m(.0)\u001b[0m\n\u001b[1;32m     33\u001b[0m     \u001b[0;31m#concatintae the result output heads matrix\u001b[0m\u001b[0;34m\u001b[0m\u001b[0;34m\u001b[0m\u001b[0m\n\u001b[1;32m     34\u001b[0m     \u001b[0;32mdef\u001b[0m \u001b[0mforward\u001b[0m\u001b[0;34m(\u001b[0m\u001b[0mself\u001b[0m\u001b[0;34m,\u001b[0m \u001b[0mx\u001b[0m\u001b[0;34m)\u001b[0m\u001b[0;34m:\u001b[0m\u001b[0;34m\u001b[0m\u001b[0;34m\u001b[0m\u001b[0m\n\u001b[0;32m---> 35\u001b[0;31m         \u001b[0mout\u001b[0m \u001b[0;34m=\u001b[0m \u001b[0mtorch\u001b[0m\u001b[0;34m.\u001b[0m\u001b[0mcat\u001b[0m\u001b[0;34m(\u001b[0m\u001b[0;34m[\u001b[0m\u001b[0mh\u001b[0m\u001b[0;34m(\u001b[0m\u001b[0mx\u001b[0m\u001b[0;34m)\u001b[0m \u001b[0;32mfor\u001b[0m \u001b[0mh\u001b[0m \u001b[0;32min\u001b[0m \u001b[0mself\u001b[0m\u001b[0;34m.\u001b[0m\u001b[0mheads\u001b[0m\u001b[0;34m]\u001b[0m\u001b[0;34m,\u001b[0m \u001b[0mdim\u001b[0m\u001b[0;34m=\u001b[0m\u001b[0;34m-\u001b[0m\u001b[0;36m1\u001b[0m\u001b[0;34m)\u001b[0m\u001b[0;34m\u001b[0m\u001b[0;34m\u001b[0m\u001b[0m\n\u001b[0m\u001b[1;32m     36\u001b[0m         \u001b[0mout\u001b[0m \u001b[0;34m=\u001b[0m \u001b[0mself\u001b[0m\u001b[0;34m.\u001b[0m\u001b[0mdropout\u001b[0m\u001b[0;34m(\u001b[0m\u001b[0mself\u001b[0m\u001b[0;34m.\u001b[0m\u001b[0mproj\u001b[0m\u001b[0;34m(\u001b[0m\u001b[0mout\u001b[0m\u001b[0;34m)\u001b[0m\u001b[0;34m)\u001b[0m\u001b[0;34m\u001b[0m\u001b[0;34m\u001b[0m\u001b[0m\n\u001b[1;32m     37\u001b[0m         \u001b[0;32mreturn\u001b[0m \u001b[0mout\u001b[0m\u001b[0;34m\u001b[0m\u001b[0;34m\u001b[0m\u001b[0m\n",
            "\u001b[0;32m/usr/local/lib/python3.10/dist-packages/torch/nn/modules/module.py\u001b[0m in \u001b[0;36m_wrapped_call_impl\u001b[0;34m(self, *args, **kwargs)\u001b[0m\n\u001b[1;32m   1551\u001b[0m             \u001b[0;32mreturn\u001b[0m \u001b[0mself\u001b[0m\u001b[0;34m.\u001b[0m\u001b[0m_compiled_call_impl\u001b[0m\u001b[0;34m(\u001b[0m\u001b[0;34m*\u001b[0m\u001b[0margs\u001b[0m\u001b[0;34m,\u001b[0m \u001b[0;34m**\u001b[0m\u001b[0mkwargs\u001b[0m\u001b[0;34m)\u001b[0m  \u001b[0;31m# type: ignore[misc]\u001b[0m\u001b[0;34m\u001b[0m\u001b[0;34m\u001b[0m\u001b[0m\n\u001b[1;32m   1552\u001b[0m         \u001b[0;32melse\u001b[0m\u001b[0;34m:\u001b[0m\u001b[0;34m\u001b[0m\u001b[0;34m\u001b[0m\u001b[0m\n\u001b[0;32m-> 1553\u001b[0;31m             \u001b[0;32mreturn\u001b[0m \u001b[0mself\u001b[0m\u001b[0;34m.\u001b[0m\u001b[0m_call_impl\u001b[0m\u001b[0;34m(\u001b[0m\u001b[0;34m*\u001b[0m\u001b[0margs\u001b[0m\u001b[0;34m,\u001b[0m \u001b[0;34m**\u001b[0m\u001b[0mkwargs\u001b[0m\u001b[0;34m)\u001b[0m\u001b[0;34m\u001b[0m\u001b[0;34m\u001b[0m\u001b[0m\n\u001b[0m\u001b[1;32m   1554\u001b[0m \u001b[0;34m\u001b[0m\u001b[0m\n\u001b[1;32m   1555\u001b[0m     \u001b[0;32mdef\u001b[0m \u001b[0m_call_impl\u001b[0m\u001b[0;34m(\u001b[0m\u001b[0mself\u001b[0m\u001b[0;34m,\u001b[0m \u001b[0;34m*\u001b[0m\u001b[0margs\u001b[0m\u001b[0;34m,\u001b[0m \u001b[0;34m**\u001b[0m\u001b[0mkwargs\u001b[0m\u001b[0;34m)\u001b[0m\u001b[0;34m:\u001b[0m\u001b[0;34m\u001b[0m\u001b[0;34m\u001b[0m\u001b[0m\n",
            "\u001b[0;32m/usr/local/lib/python3.10/dist-packages/torch/nn/modules/module.py\u001b[0m in \u001b[0;36m_call_impl\u001b[0;34m(self, *args, **kwargs)\u001b[0m\n\u001b[1;32m   1560\u001b[0m                 \u001b[0;32mor\u001b[0m \u001b[0m_global_backward_pre_hooks\u001b[0m \u001b[0;32mor\u001b[0m \u001b[0m_global_backward_hooks\u001b[0m\u001b[0;34m\u001b[0m\u001b[0;34m\u001b[0m\u001b[0m\n\u001b[1;32m   1561\u001b[0m                 or _global_forward_hooks or _global_forward_pre_hooks):\n\u001b[0;32m-> 1562\u001b[0;31m             \u001b[0;32mreturn\u001b[0m \u001b[0mforward_call\u001b[0m\u001b[0;34m(\u001b[0m\u001b[0;34m*\u001b[0m\u001b[0margs\u001b[0m\u001b[0;34m,\u001b[0m \u001b[0;34m**\u001b[0m\u001b[0mkwargs\u001b[0m\u001b[0;34m)\u001b[0m\u001b[0;34m\u001b[0m\u001b[0;34m\u001b[0m\u001b[0m\n\u001b[0m\u001b[1;32m   1563\u001b[0m \u001b[0;34m\u001b[0m\u001b[0m\n\u001b[1;32m   1564\u001b[0m         \u001b[0;32mtry\u001b[0m\u001b[0;34m:\u001b[0m\u001b[0;34m\u001b[0m\u001b[0;34m\u001b[0m\u001b[0m\n",
            "\u001b[0;32m<ipython-input-26-f88afe3353f2>\u001b[0m in \u001b[0;36mforward\u001b[0;34m(self, x)\u001b[0m\n\u001b[1;32m     15\u001b[0m     \u001b[0mB\u001b[0m\u001b[0;34m,\u001b[0m\u001b[0mT\u001b[0m\u001b[0;34m,\u001b[0m\u001b[0mC\u001b[0m  \u001b[0;34m=\u001b[0m \u001b[0mx\u001b[0m\u001b[0;34m.\u001b[0m\u001b[0mshape\u001b[0m \u001b[0;31m#storing inpute batch size , the sequance length (token number, carecters in our case) , embedding size\u001b[0m\u001b[0;34m\u001b[0m\u001b[0;34m\u001b[0m\u001b[0m\n\u001b[1;32m     16\u001b[0m     \u001b[0mk\u001b[0m\u001b[0;34m=\u001b[0m \u001b[0mself\u001b[0m\u001b[0;34m.\u001b[0m\u001b[0mkey\u001b[0m\u001b[0;34m(\u001b[0m\u001b[0mx\u001b[0m\u001b[0;34m)\u001b[0m\u001b[0;34m\u001b[0m\u001b[0;34m\u001b[0m\u001b[0m\n\u001b[0;32m---> 17\u001b[0;31m     \u001b[0mq\u001b[0m\u001b[0;34m=\u001b[0m \u001b[0mself\u001b[0m\u001b[0;34m.\u001b[0m\u001b[0mquery\u001b[0m\u001b[0;34m(\u001b[0m\u001b[0mx\u001b[0m\u001b[0;34m)\u001b[0m\u001b[0;34m\u001b[0m\u001b[0;34m\u001b[0m\u001b[0m\n\u001b[0m\u001b[1;32m     18\u001b[0m     \u001b[0;31m# calculate attention scores (\"affinities\")\u001b[0m\u001b[0;34m\u001b[0m\u001b[0;34m\u001b[0m\u001b[0m\n\u001b[1;32m     19\u001b[0m     \u001b[0mwei\u001b[0m \u001b[0;34m=\u001b[0m \u001b[0mq\u001b[0m \u001b[0;34m@\u001b[0m \u001b[0mk\u001b[0m\u001b[0;34m.\u001b[0m\u001b[0mtranspose\u001b[0m\u001b[0;34m(\u001b[0m\u001b[0;34m-\u001b[0m\u001b[0;36m2\u001b[0m\u001b[0;34m,\u001b[0m\u001b[0;34m-\u001b[0m\u001b[0;36m1\u001b[0m\u001b[0;34m)\u001b[0m \u001b[0;34m*\u001b[0m \u001b[0mC\u001b[0m\u001b[0;34m**\u001b[0m\u001b[0;34m-\u001b[0m\u001b[0;36m0.5\u001b[0m \u001b[0;31m# a dot product followed by a scaling\u001b[0m\u001b[0;34m\u001b[0m\u001b[0;34m\u001b[0m\u001b[0m\n",
            "\u001b[0;32m/usr/local/lib/python3.10/dist-packages/torch/nn/modules/module.py\u001b[0m in \u001b[0;36m_wrapped_call_impl\u001b[0;34m(self, *args, **kwargs)\u001b[0m\n\u001b[1;32m   1551\u001b[0m             \u001b[0;32mreturn\u001b[0m \u001b[0mself\u001b[0m\u001b[0;34m.\u001b[0m\u001b[0m_compiled_call_impl\u001b[0m\u001b[0;34m(\u001b[0m\u001b[0;34m*\u001b[0m\u001b[0margs\u001b[0m\u001b[0;34m,\u001b[0m \u001b[0;34m**\u001b[0m\u001b[0mkwargs\u001b[0m\u001b[0;34m)\u001b[0m  \u001b[0;31m# type: ignore[misc]\u001b[0m\u001b[0;34m\u001b[0m\u001b[0;34m\u001b[0m\u001b[0m\n\u001b[1;32m   1552\u001b[0m         \u001b[0;32melse\u001b[0m\u001b[0;34m:\u001b[0m\u001b[0;34m\u001b[0m\u001b[0;34m\u001b[0m\u001b[0m\n\u001b[0;32m-> 1553\u001b[0;31m             \u001b[0;32mreturn\u001b[0m \u001b[0mself\u001b[0m\u001b[0;34m.\u001b[0m\u001b[0m_call_impl\u001b[0m\u001b[0;34m(\u001b[0m\u001b[0;34m*\u001b[0m\u001b[0margs\u001b[0m\u001b[0;34m,\u001b[0m \u001b[0;34m**\u001b[0m\u001b[0mkwargs\u001b[0m\u001b[0;34m)\u001b[0m\u001b[0;34m\u001b[0m\u001b[0;34m\u001b[0m\u001b[0m\n\u001b[0m\u001b[1;32m   1554\u001b[0m \u001b[0;34m\u001b[0m\u001b[0m\n\u001b[1;32m   1555\u001b[0m     \u001b[0;32mdef\u001b[0m \u001b[0m_call_impl\u001b[0m\u001b[0;34m(\u001b[0m\u001b[0mself\u001b[0m\u001b[0;34m,\u001b[0m \u001b[0;34m*\u001b[0m\u001b[0margs\u001b[0m\u001b[0;34m,\u001b[0m \u001b[0;34m**\u001b[0m\u001b[0mkwargs\u001b[0m\u001b[0;34m)\u001b[0m\u001b[0;34m:\u001b[0m\u001b[0;34m\u001b[0m\u001b[0;34m\u001b[0m\u001b[0m\n",
            "\u001b[0;32m/usr/local/lib/python3.10/dist-packages/torch/nn/modules/module.py\u001b[0m in \u001b[0;36m_call_impl\u001b[0;34m(self, *args, **kwargs)\u001b[0m\n\u001b[1;32m   1560\u001b[0m                 \u001b[0;32mor\u001b[0m \u001b[0m_global_backward_pre_hooks\u001b[0m \u001b[0;32mor\u001b[0m \u001b[0m_global_backward_hooks\u001b[0m\u001b[0;34m\u001b[0m\u001b[0;34m\u001b[0m\u001b[0m\n\u001b[1;32m   1561\u001b[0m                 or _global_forward_hooks or _global_forward_pre_hooks):\n\u001b[0;32m-> 1562\u001b[0;31m             \u001b[0;32mreturn\u001b[0m \u001b[0mforward_call\u001b[0m\u001b[0;34m(\u001b[0m\u001b[0;34m*\u001b[0m\u001b[0margs\u001b[0m\u001b[0;34m,\u001b[0m \u001b[0;34m**\u001b[0m\u001b[0mkwargs\u001b[0m\u001b[0;34m)\u001b[0m\u001b[0;34m\u001b[0m\u001b[0;34m\u001b[0m\u001b[0m\n\u001b[0m\u001b[1;32m   1563\u001b[0m \u001b[0;34m\u001b[0m\u001b[0m\n\u001b[1;32m   1564\u001b[0m         \u001b[0;32mtry\u001b[0m\u001b[0;34m:\u001b[0m\u001b[0;34m\u001b[0m\u001b[0;34m\u001b[0m\u001b[0m\n",
            "\u001b[0;32m/usr/local/lib/python3.10/dist-packages/torch/nn/modules/linear.py\u001b[0m in \u001b[0;36mforward\u001b[0;34m(self, input)\u001b[0m\n\u001b[1;32m    115\u001b[0m \u001b[0;34m\u001b[0m\u001b[0m\n\u001b[1;32m    116\u001b[0m     \u001b[0;32mdef\u001b[0m \u001b[0mforward\u001b[0m\u001b[0;34m(\u001b[0m\u001b[0mself\u001b[0m\u001b[0;34m,\u001b[0m \u001b[0minput\u001b[0m\u001b[0;34m:\u001b[0m \u001b[0mTensor\u001b[0m\u001b[0;34m)\u001b[0m \u001b[0;34m->\u001b[0m \u001b[0mTensor\u001b[0m\u001b[0;34m:\u001b[0m\u001b[0;34m\u001b[0m\u001b[0;34m\u001b[0m\u001b[0m\n\u001b[0;32m--> 117\u001b[0;31m         \u001b[0;32mreturn\u001b[0m \u001b[0mF\u001b[0m\u001b[0;34m.\u001b[0m\u001b[0mlinear\u001b[0m\u001b[0;34m(\u001b[0m\u001b[0minput\u001b[0m\u001b[0;34m,\u001b[0m \u001b[0mself\u001b[0m\u001b[0;34m.\u001b[0m\u001b[0mweight\u001b[0m\u001b[0;34m,\u001b[0m \u001b[0mself\u001b[0m\u001b[0;34m.\u001b[0m\u001b[0mbias\u001b[0m\u001b[0;34m)\u001b[0m\u001b[0;34m\u001b[0m\u001b[0;34m\u001b[0m\u001b[0m\n\u001b[0m\u001b[1;32m    118\u001b[0m \u001b[0;34m\u001b[0m\u001b[0m\n\u001b[1;32m    119\u001b[0m     \u001b[0;32mdef\u001b[0m \u001b[0mextra_repr\u001b[0m\u001b[0;34m(\u001b[0m\u001b[0mself\u001b[0m\u001b[0;34m)\u001b[0m \u001b[0;34m->\u001b[0m \u001b[0mstr\u001b[0m\u001b[0;34m:\u001b[0m\u001b[0;34m\u001b[0m\u001b[0;34m\u001b[0m\u001b[0m\n",
            "\u001b[0;31mKeyboardInterrupt\u001b[0m: "
          ]
        }
      ]
    },
    {
      "cell_type": "markdown",
      "source": [
        "Z. tetsing"
      ],
      "metadata": {
        "id": "gW7s-bsMveq6"
      }
    },
    {
      "cell_type": "code",
      "source": [
        "import torch\n",
        "block_size=8\n",
        "context = \"First Citizen:\\nBefore we proceed any further\"\n",
        "converted = [encode(context[i*block_size:i*block_size+block_size]) for i in range(len(context)//block_size)]\n",
        "converted = torch.tensor(converted , device=device)\n",
        "print(converted)"
      ],
      "metadata": {
        "colab": {
          "base_uri": "https://localhost:8080/"
        },
        "id": "gbH3V8u8ijsZ",
        "outputId": "28f56368-f2d1-4125-b0ee-01b1533b178b"
      },
      "execution_count": null,
      "outputs": [
        {
          "output_type": "stream",
          "name": "stdout",
          "text": [
            "tensor([[18, 47, 56, 57, 58,  1, 15, 47],\n",
            "        [58, 47, 64, 43, 52, 10,  0, 14],\n",
            "        [43, 44, 53, 56, 43,  1, 61, 43],\n",
            "        [ 1, 54, 56, 53, 41, 43, 43, 42],\n",
            "        [ 1, 39, 52, 63,  1, 44, 59, 56]], device='cuda:0')\n"
          ]
        }
      ]
    },
    {
      "cell_type": "code",
      "source": [
        "print(decode(m.generate(converted, max_number_tokens=2000)[0].tolist()))"
      ],
      "metadata": {
        "colab": {
          "base_uri": "https://localhost:8080/"
        },
        "id": "bqcs3-YYo2R0",
        "outputId": "90ab532e-6b30-4eee-b8b3-022c49e2a999"
      },
      "execution_count": null,
      "outputs": [
        {
          "output_type": "stream",
          "name": "stdout",
          "text": [
            "First Citizen:\n",
            "I brince?\n",
            "\n",
            "SOMERSET:\n",
            "We\n",
            "be seek of Aufidal grave the gate\n",
            "he art that us he hand?\n",
            "\n",
            "MEXENES:\n",
            "But conded.\n",
            "\n",
            "HENRY BOLINGBROKE:\n",
            "Norto find your mildne;\n",
            "Whice mirted?\n",
            "\n",
            "PAULINA:\n",
            "Her, move to help know and be joy!\n",
            " less him; let humb on him speak; and thee years in us.\n",
            "But at is loss\n",
            "For I the callely aling to thy in all, and bouring with imed to-night,--'Sir the dangerupt for the\n",
            "rist me to thy fled\n",
            "At forful her blood.\n",
            "\n",
            "HENRY BRUTH:\n",
            "Prisadards.\n",
            "With Edward hith cousany, tell repts\n",
            "Infer for his needs, knees,\n",
            "It ne'er his eam of a changed-foot, by we men.\n",
            "\n",
            "CORIOLANUS:\n",
            "What thy welcome, will cousin:\n",
            "I should so, madamial of mucians\n",
            "Of husbade.\n",
            "\n",
            "VOMPEN LORENCE:\n",
            "No must cour-vittrise so upon sorrow Richard:\n",
            "Whit Clarence!\n",
            "Yes, will hear nee, or the want beak the\n",
            "were but we must be the manner, do so lady.\n",
            "\n",
            "Provost comed\n",
            "For him, till\n",
            "but be no none Captures, the quite under or fact e subjectip you our woed no come out spectly like to the han the body twat doth Your tell for Gloucester.\n",
            "Yes I am all we seal it full not when her that I was privatta;\n",
            "That nobly.\n",
            "\n",
            "BRUTUS:\n",
            "I have see mines and enterting!\n",
            "Your worldger:\n",
            "How words,\n",
            "And left be\n",
            "Hear wise.I have a caniet 't may, the anglight in how! O, tell true expection nhise. Warwielt with\n",
            "ant dead\n",
            "So your Henry's mother;\n",
            "For the minorch, not just her bowd;\n",
            "Made him are but babe love in coper's lordy doth head on the hans beed some cavenburt the state the bable him;\n",
            "And he deed, to me with tend, and light:\n",
            "He yet of Rome of Rolator,\n",
            "The smorl of you;\n",
            "He them wars, even;\n",
            "Rest me of a-latike my from my be pliers\n",
            "Of Bolingbroke\n",
            "My even course.\n",
            "\n",
            "First Lory.\n",
            "\n",
            "JULIET:\n",
            "Give to remed-maid she. Pray, and I am all affure\n",
            "To mh, sir: and hope to lives.\n",
            "\n",
            "FLORIXENENE:\n",
            "For this flout--for that heaven, incill, of muste,\n",
            "As late shame twree way before a glad o'er burse like in thelw to was as for the do wick, of the queen,\n",
            "Guild thy proud,\n",
            "They awryself,\n",
            "But better Edward on the Ripallial; I will do no more and kinsman; he had night, and I\n"
          ]
        }
      ]
    },
    {
      "cell_type": "markdown",
      "source": [
        "Try with diffrent tokenizer"
      ],
      "metadata": {
        "id": "3k9TyZIzaZGI"
      }
    },
    {
      "cell_type": "code",
      "source": [
        "import sentencepiece as spm\n",
        "spm.SentencePieceTrainer.train(input='/content/complete.txt', model_prefix='m', vocab_size=3000) #setting vocab to higher value to encode sub words\n",
        "sp = spm.SentencePieceProcessor(model_file='/content/m.model')"
      ],
      "metadata": {
        "id": "ZQNvwwq33TZ2"
      },
      "execution_count": 4,
      "outputs": []
    },
    {
      "cell_type": "code",
      "source": [
        "data = torch.tensor(sp.encode(text),device=device)\n",
        "data[:1000]"
      ],
      "metadata": {
        "colab": {
          "base_uri": "https://localhost:8080/"
        },
        "id": "q87nzLxEaof3",
        "outputId": "2d879844-d90a-4faf-bf4a-79623145c66d"
      },
      "execution_count": 5,
      "outputs": [
        {
          "output_type": "execute_result",
          "data": {
            "text/plain": [
              "tensor([  54, 2892,  440,   47, 1164,  142,   32,   59, 1424,   10, 1103,  223,\n",
              "         132,  243,   91,  946,   11,    4, 1847,  739,  346, 1268,   31,  231,\n",
              "         192,   93,  546,   27,   20, 1967,   16,   12,   93,   25,  825,    6,\n",
              "         525,  549, 1177,    3,   44,  150,   24,   38,  151, 1354,  132,  161,\n",
              "          12, 1203,   22,    5,   81,    4,  393,   10,  528,  473,   77,   40,\n",
              "           5, 1074,    3,    4, 2606,   11, 2540,    3,   28,   96,   25,  954,\n",
              "         735,   29,    6,   49,  147,  383,  257,    3,  712,  123,  126, 1097,\n",
              "         298,  147, 1169,   73,   63,   33,  845,   17,   34,    4, 1909,   10,\n",
              "        1103,  223,  132,  243,   91,  946,   19,    3, 1082, 1126,   24,   20,\n",
              "         527, 1143,   14,   32, 2718,  105,   10,    4, 1002,  160,   58,  898,\n",
              "           5,   56,    4, 2465,  129,  544,   61,    3,   17,  124,   91,    4,\n",
              "        1402,    3,   10,  338, 1223,    3,    7,    4,  305,  172,  726, 1711,\n",
              "         772,  654,  322,   24,  615,  398,  747,  105,   17,  291, 1243,    4,\n",
              "         103,   38,  292,  199,   38,  205,  232,    6,  727,   28,  860,   19,\n",
              "          13,   46,    5,  155,   36,   71,   28,  554,  265, 1989,    5,   43,\n",
              "         252,   47,  306,   10,  243,   91,  946,   19,    3, 1506,  710,   50,\n",
              "        1936,   22,   11,  854,  370,  627,  235,   50,    5,   44,  150,   24,\n",
              "          38,  151, 1354,  132,  236,   12,  244,  822,    3,  427,   67,    6,\n",
              "          33, 2001, 1295,    7,    9, 2395,  241,   51,   25,   47,   13,    3,\n",
              "           9,  462, 1335,  678,   62,  496,  238,    4,   93,  957, 2096,  393,\n",
              "        1589,   16,   28,   12,  970,    5, 2220,   59,  241,   47,   76,   60,\n",
              "         290, 2791,  804,   14,   55, 2694,  510,  714,    3,  100,    3,  482,\n",
              "           4,  713,    6,  247,   12, 1203,   22,  284,  318,  734,   15,    8,\n",
              "        2746,  527,   16,   26,  243,   91,  946,   19,    3, 2070,    3,   71,\n",
              "         773,    8, 2505, 2802,   12, 1464,  284,   55,   13,   91,  506,   67,\n",
              "           7,  441,   68,  822,   43, 1966,   29, 2775,    5,   11,  552,   25,\n",
              "         171,   43, 1571,   15,    7,  244, 2601,  101, 1532,   29, 1198,    6,\n",
              "         525,  549, 1177,    3,   44,  150,   24,   38,  151, 1354,  132,  161,\n",
              "          12, 1203,   22,    5,   81,    4,  393,   10,  528,  473,   77,   40,\n",
              "           5,  318,  243,   91,  946,  749,   29,   69,  995,   16,   55,    4,\n",
              "         146,   10,   68,  265, 1989, 2678,    5, 1074,    3,    4, 2606,   11,\n",
              "        2540,    3,   28,   96,   25,  954,  735,   29,    6, 1203,   18,  746,\n",
              "         584,  215,  252,   47,  306,   17,  115,    9, 1905,   14,  382,  265,\n",
              "        1989,   43, 1370,    5, 2220,   89, 1888,    8,  355,   41, 1030, 1106,\n",
              "           5,   11,    4,  822,   20, 1198,   12,  677,   64,   84, 1329, 1471,\n",
              "          12,    4,  407,    6,  247,    4,  690,   10, 1009,    7,    9, 2395,\n",
              "          28,   12,    4,  713,  318,  243,   91,  946,  124,  200,   13,  352,\n",
              "          68, 1082, 1126,   24,   71, 1623,  174,   10,  244,    9,   14,  262,\n",
              "          12,    4, 1688,  182,  158,    5,  170,    8, 1715, 1203,   18,  746,\n",
              "         584,  215, 2791,   10,    4,  822,  514,   47,    3,  110,   42,    4,\n",
              "         619,  698,   26,    4,  992, 1267,   10,    4, 1912, 1853,    6,   44,\n",
              "         147,   50,  445,   62,   20,    8,  368, 2495,  822,    5,   72,  835,\n",
              "        1177,   28,    5,   62,   20, 1965,   95,  172,  461,  236,   78,  173,\n",
              "         223,  132,   60,  557, 1347, 2165,  279,   23,    5,    8, 2613,   10,\n",
              "        2019, 1236,   55,    4, 2275, 1154,   10,   93,   25,  825,    6,   44,\n",
              "         150,  839,  408,   28,   34, 2249, 1065,    5,   81,  291,   28,   19,\n",
              "           3,  164,    5,   28,  248,    3,  155, 1413,    6,  384,   86,  524,\n",
              "          28,  107, 2392,  191,   33,    9, 2395,   25,   10,    4,  241,   51,\n",
              "          25,   47,   13,    3,    5, 2044,   18, 1786,  648,  381,  893,    3,\n",
              "           5,   71,   78,   28,   83, 2516,    4,   93,  957, 2096,  393,   19,\n",
              "           3,   12,  836,   23,   51,  214,    6,  104, 2049,    5,    4,    9,\n",
              "        2395,   25,   35,  116, 1055,    3,   10, 2606,  628,  223,   84,   11,\n",
              "           4, 2292,  303,   10, 1002,  160,   58, 2858,    3,  238,    4,   93,\n",
              "         957, 2096,  393,  583,  740,   69, 1905,   14,  252,   47,  306,   10,\n",
              "           4, 1002,  160,   58, 2011,   19,    3,   12,   18, 2448, 2694,    6,\n",
              "          33, 1295,    7,    9, 2395,    9,  377,  670,   10,   44,  150,   24,\n",
              "          38,  151, 1354,  132,  161,   26, 1813,   34,  459,  254,   13,  678,\n",
              "          55,    4,  343, 1419,    5, 2220,    4,    9, 2395,   25,    5,  542,\n",
              "          22,    7, 1734,  921,   26,    4,  492,  198,    5,  114,    9, 1905,\n",
              "          14,  249, 1267,    3,   10,    4,  124,  202,  579,   61,   13,    6,\n",
              "          33, 1267,  218, 1294,   26,  952,   10,    8,   45,  567,   10,    9,\n",
              "         120,   61,  718,  198, 2892,    3,   55,    8,  179,    3,  148,  273,\n",
              "          12,   93,   25,  825,   19,    3, 2394,  103,   77,   14,   77,  130,\n",
              "           3,  912,    3,  237,  134,   84,   34,    8,    9,    3,   64, 1684,\n",
              "           5, 2562,    5, 1277,   18,   47,  215,    9,   61, 1678,   61,   13,\n",
              "          17,   71,   68,  427,  570, 1078,  333,   12,  109,  252,   64,  246,\n",
              "          23,   11,   59, 1424,   10,    9,  841,   76,  526, 1887,  134, 1354,\n",
              "          14,   32,   44,  298,   23,   31,  231,  192,  161,   12,    4,  153,\n",
              "           5,    8,   51,  301,  664,  386,   14,   52,  249,   69, 1063,  651,\n",
              "         214,    3,   10, 1002,  160,   58,   18,   25,   40, 2694,    3,    6,\n",
              "          44,  150,   24,   38,  151, 1354,  132,  161,   44,  211,   59,    8,\n",
              "          90,  505,  822,    5,   11,    4, 1392,  315,   15,   20, 2487,   29,\n",
              "          57,  212,    3,    5,   81,   72,   46,  588,  918,   26,   28, 1754,\n",
              "          15,    4,  785,   10,  124,  539,   15,   28,  853,    6,  263,  785,\n",
              "          20,  176, 1145,  195,  236,   78, 2201,  273,   25,  296,  671,  450,\n",
              "           5,    8, 2711,   21,    4,    9, 2395,   25,    6,   44, 1549,    8,\n",
              "         806,  713,    5,   48,  357,    7, 1952,  330,  368, 1208,  339,    3,\n",
              "          10, 1203, 1236,  191,  332,  293,    5,   45,   78,    5,  197,   43,\n",
              "        1231,    3,    5,   11,  771,  243,   91,  946,   19,    3,  997,    3,\n",
              "          42,   12,    3, 1126,   84,    5,   57,   42,   68,  427,  570, 1657,\n",
              "         627,  636,    5,   20,  318,   28, 2017,   67,    4,  695,    6,   44,\n",
              "         346, 2986,   20,  626,   15,  331,   18,   90,   15,  171,    7, 1721,\n",
              "          28,   12,  822,  428,  251,    3,   32,   97, 2019, 1078,  333,  236,\n",
              "          45,   78,    6,   44], device='cuda:0')"
            ]
          },
          "metadata": {},
          "execution_count": 5
        }
      ]
    },
    {
      "cell_type": "code",
      "source": [
        "length = int(len(data)*0.95)\n",
        "train = data[:length]\n",
        "valid = data[length:]\n",
        "\n",
        "batch_size = 8 #number of inputs processed in the same time\n",
        "block_size = 8 #length of the block\n",
        "vocab_size=4000"
      ],
      "metadata": {
        "id": "VQZnxofyarKF"
      },
      "execution_count": 12,
      "outputs": []
    },
    {
      "cell_type": "code",
      "source": [
        "def get_batch(split):\n",
        "    data = train if split == 'train' else valid\n",
        "    ix = torch.randint(len(data) - block_size, (batch_size,))\n",
        "    x = torch.stack([data[i:i+block_size] for i in ix])\n",
        "    y = torch.stack([data[i+1:i+block_size+1] for i in ix])\n",
        "    x, y = x.to(device), y.to(device)\n",
        "    return x, y\n",
        "get_batch(\"train\")"
      ],
      "metadata": {
        "id": "k1E675T7XOgI",
        "colab": {
          "base_uri": "https://localhost:8080/"
        },
        "outputId": "9ecea94c-4837-4530-ee48-9ee7d704f9ec"
      },
      "execution_count": 13,
      "outputs": [
        {
          "output_type": "execute_result",
          "data": {
            "text/plain": [
              "(tensor([[  59, 2010,  299,    7, 1365,  193,  695,   32],\n",
              "         [ 247,  569,  202, 1511,   66,  311,    5, 1101],\n",
              "         [   4,  981,  127,  183,  912,  352, 2320,    5],\n",
              "         [   4,  331,   28,  319,    3,  159,  283,  105],\n",
              "         [ 175,  722,   79,   53,  740, 2216,  224,  600],\n",
              "         [   6, 2697,   10, 1092,    6,   49,  185,   36],\n",
              "         [  23,  311,  345,  631,  337,    3,   92,   31],\n",
              "         [ 301,  769,   75,   29, 1269,  307, 1211,    5]], device='cuda:0'),\n",
              " tensor([[2010,  299,    7, 1365,  193,  695,   32,  152],\n",
              "         [ 569,  202, 1511,   66,  311,    5, 1101,  560],\n",
              "         [ 981,  127,  183,  912,  352, 2320,    5,   81],\n",
              "         [ 331,   28,  319,    3,  159,  283,  105,  310],\n",
              "         [ 722,   79,   53,  740, 2216,  224,  600,    4],\n",
              "         [2697,   10, 1092,    6,   49,  185,   36,  546],\n",
              "         [ 311,  345,  631,  337,    3,   92,   31,  188],\n",
              "         [ 769,   75,   29, 1269,  307, 1211,    5,  460]], device='cuda:0'))"
            ]
          },
          "metadata": {},
          "execution_count": 13
        }
      ]
    },
    {
      "cell_type": "code",
      "source": [
        "batch_size = 8 #number of inputs processed in the same time\n",
        "block_size = 16 #length of the block\n",
        "num_iter = 10000\n",
        "learning_rate = 1e-3\n",
        "device = 'cuda' if torch.cuda.is_available() else 'cpu'\n",
        "n_embd = 64 # size of the embeddings for example each token represented with 64 embedding\n",
        "n_head = 4 # number of heads that works in parallel in multi headed\n",
        "num_layers = 10\n",
        "eval_interval = 100 #print losess each 100 iteration\n",
        "eval_iters = 200\n",
        "\n",
        "torch.manual_seed(1337)"
      ],
      "metadata": {
        "id": "Shoz5T0xXUQC",
        "colab": {
          "base_uri": "https://localhost:8080/"
        },
        "outputId": "f3b28575-2cf7-4a9c-fc14-ccdeac3b83fc"
      },
      "execution_count": 14,
      "outputs": [
        {
          "output_type": "execute_result",
          "data": {
            "text/plain": [
              "<torch._C.Generator at 0x7b0bd937cb50>"
            ]
          },
          "metadata": {},
          "execution_count": 14
        }
      ]
    },
    {
      "cell_type": "code",
      "source": [
        "import torch.nn as nn\n",
        "from torch.nn import functional as F\n",
        "class Head(nn.Module):\n",
        "  # constrcutor to define the linear function\n",
        "  def __init__(self , head_size):\n",
        "    super().__init__()\n",
        "    self.key = nn.Linear(n_embd,head_size,bias=False)\n",
        "    self.query = nn.Linear(n_embd,head_size,bias=False)\n",
        "    self.value = nn.Linear(n_embd,head_size,bias=False)\n",
        "    self.register_buffer('tril',torch.tril(torch.ones(block_size,block_size)))#the masking layer for non ecovered tokens\n",
        "    self.dropout = nn.Dropout(0.0)\n",
        "\n",
        "  #like zipping the pipeline in the multiheaded in one method\n",
        "  def forward(self , x):\n",
        "    B,T,C  = x.shape #storing inpute batch size , the sequance length (token number, carecters in our case) , embedding size\n",
        "    k= self.key(x)\n",
        "    q= self.query(x)\n",
        "    # calculate attention scores (\"affinities\")\n",
        "    wei = q @ k.transpose(-2,-1) * C**-0.5 # a dot product followed by a scaling\n",
        "    wei = wei.masked_fill(self.tril[:T, :T] == 0, float('-inf')) #mask the toen we idn't descover yet\n",
        "    wei = F.softmax(wei, dim=-1)\n",
        "    v = self.value(x)\n",
        "    out = wei @ v\n",
        "    return out\n",
        "\n",
        "class MultiHeadedAttention(nn.Module):\n",
        "    def __init__(self , num_heads , head_size):\n",
        "      super().__init__()\n",
        "      self.heads = nn.ModuleList([Head(head_size) for _ in range(n_head)])\n",
        "      self.proj = nn.Linear(n_embd, n_embd)\n",
        "      self.dropout = nn.Dropout(0.0)\n",
        "\n",
        "    #concatintae the result output heads matrix\n",
        "    def forward(self, x):\n",
        "        out = torch.cat([h(x) for h in self.heads], dim=-1)\n",
        "        out = self.dropout(self.proj(out))\n",
        "        return out\n",
        "\n",
        "class FeedForward(nn.Module):\n",
        "  def __init__(self , n_embd):\n",
        "    super().__init__()\n",
        "    #creating a linear layer followed by a no linearity (using RELU activation)\n",
        "    self.net = nn.Sequential(\n",
        "            nn.Linear(n_embd, 4 * n_embd),\n",
        "            nn.ReLU(),\n",
        "            nn.Linear(4 * n_embd, n_embd),\n",
        "            nn.Dropout(0.0),\n",
        "        )\n",
        "  def forward(self, x):\n",
        "        return self.net(x)\n",
        "\n",
        "\n",
        "class Block(nn.Module):\n",
        "    # in the block we pass the input into a normalization layer and also the output heads\n",
        "    # first for the residual connection + the feature normalization\n",
        "\n",
        "    def __init__(self, n_embd, n_head):\n",
        "        # n_embd: embedding dimension, n_head: the number of heads we'd like\n",
        "        super().__init__()\n",
        "        head_size = n_embd // n_head\n",
        "        self.sa = MultiHeadedAttention(n_head, head_size)\n",
        "        self.ffwd = FeedForward(n_embd)\n",
        "        self.ln1 = nn.LayerNorm(n_embd)\n",
        "        self.ln2 = nn.LayerNorm(n_embd)\n",
        "\n",
        "    def forward(self, x):\n",
        "        x = x + self.sa(self.ln1(x))\n",
        "        x = x + self.ffwd(self.ln2(x))\n",
        "        return x\n",
        "\n"
      ],
      "metadata": {
        "id": "rliN1f8QXarI"
      },
      "execution_count": 15,
      "outputs": []
    },
    {
      "cell_type": "code",
      "source": [
        "class BigramLanguageModel(nn.Module):\n",
        "  def __init__(self):\n",
        "    super().__init__()\n",
        "    self.embeddings_table = nn.Embedding(vocab_size,n_embd)\n",
        "    self.position_embeddings = nn.Embedding(block_size,n_embd) #position representation (token 2 is the first , 1 is the second .. etc)\n",
        "    self.blocks = nn.Sequential(*[Block(n_embd, n_head=n_head) for _ in range(num_layers)]) #number of encoder blocks\n",
        "    self.LayerN = nn.LayerNorm(n_embd)\n",
        "    self.lm_head = nn.Linear(n_embd , vocab_size)\n",
        "  def forward(self , idx, targets=None): #generate the logits and the loss in case of training (forward propagtion)\n",
        "    B , T = idx.shape #idx -> input data\n",
        "    token_embd = self.embeddings_table(idx)\n",
        "    pos_embd = self.position_embeddings(torch.arange(T, device=device))\n",
        "    x = token_embd + pos_embd\n",
        "    x = self.blocks(x)\n",
        "    x = self.LayerN(x)\n",
        "    logits = self.lm_head(x) # (B,T,vocab_size)\n",
        "\n",
        "    if targets is None:\n",
        "        loss = None\n",
        "    else:\n",
        "        B, T, C = logits.shape\n",
        "        logits = logits.view(B*T, C)\n",
        "        targets = targets.view(B*T)\n",
        "        loss = F.cross_entropy(logits, targets)\n",
        "\n",
        "    return logits, loss\n",
        "  def generate(self , idx , max_number_tokens):\n",
        "    for _ in range(max_number_tokens):\n",
        "      idx_cond = idx[:, -block_size:]\n",
        "      logits, loss = self(idx_cond)\n",
        "      logits = logits[:, -1, :]\n",
        "      probs = F.softmax(logits, dim=-1)\n",
        "      idx_next = torch.multinomial(probs, num_samples=1)\n",
        "      idx = torch.cat((idx, idx_next), dim=1) # icluding the new token into the new one\n",
        "    return idx\n",
        "\n",
        "@torch.no_grad()\n",
        "def estimate_loss():\n",
        "    out = {}\n",
        "    model.eval()\n",
        "    for split in ['train', 'val']:\n",
        "        losses = torch.zeros(eval_iters)\n",
        "        for k in range(eval_iters):\n",
        "            X, Y = get_batch(split)\n",
        "            logits, loss = model(X, Y)\n",
        "            losses[k] = loss.item()\n",
        "        out[split] = losses.mean()\n",
        "    model.train()\n",
        "    return out\n",
        "\n",
        "model = BigramLanguageModel()\n",
        "m = model.to(device)\n",
        "optimizer = torch.optim.AdamW(model.parameters(), lr=learning_rate)\n",
        "\n",
        "for iter in range(num_iter):\n",
        "\n",
        "    if iter % eval_interval == 0 or iter == num_iter - 1:\n",
        "        losses = estimate_loss()\n",
        "        print(f\"step {iter}: train loss {losses['train']:.4f}, val loss {losses['val']:.4f}\")\n",
        "\n",
        "    xb, yb = get_batch('train')\n",
        "    # evaluate the loss\n",
        "    logits, loss = model(xb, yb)\n",
        "    optimizer.zero_grad(set_to_none=True)\n",
        "    loss.backward()\n",
        "    optimizer.step() # optimizing the weights here"
      ],
      "metadata": {
        "colab": {
          "base_uri": "https://localhost:8080/"
        },
        "id": "U0Ucdgowb8YY",
        "outputId": "e3f26df5-ee38-423e-c92e-d34b78c266d9"
      },
      "execution_count": 16,
      "outputs": [
        {
          "output_type": "stream",
          "name": "stdout",
          "text": [
            "step 0: train loss 8.4618, val loss 8.4609\n",
            "step 100: train loss 6.7145, val loss 6.6824\n",
            "step 200: train loss 6.6478, val loss 6.6397\n",
            "step 300: train loss 6.5659, val loss 6.5544\n",
            "step 400: train loss 6.4857, val loss 6.4810\n",
            "step 500: train loss 6.4308, val loss 6.3917\n",
            "step 600: train loss 6.3637, val loss 6.3668\n",
            "step 700: train loss 6.3362, val loss 6.3390\n",
            "step 800: train loss 6.2842, val loss 6.2793\n",
            "step 900: train loss 6.2507, val loss 6.2409\n",
            "step 1000: train loss 6.2119, val loss 6.2048\n",
            "step 1100: train loss 6.1594, val loss 6.1792\n",
            "step 1200: train loss 6.1256, val loss 6.1191\n",
            "step 1300: train loss 6.0929, val loss 6.0939\n",
            "step 1400: train loss 6.0461, val loss 6.0919\n",
            "step 1500: train loss 6.0228, val loss 6.0389\n",
            "step 1600: train loss 5.9997, val loss 6.0189\n",
            "step 1700: train loss 5.9424, val loss 5.9670\n",
            "step 1800: train loss 5.9417, val loss 5.9400\n",
            "step 1900: train loss 5.9291, val loss 5.9211\n",
            "step 2000: train loss 5.8721, val loss 5.8810\n",
            "step 2100: train loss 5.8584, val loss 5.8884\n",
            "step 2200: train loss 5.8737, val loss 5.8456\n",
            "step 2300: train loss 5.8355, val loss 5.8556\n",
            "step 2400: train loss 5.7975, val loss 5.8506\n",
            "step 2500: train loss 5.8059, val loss 5.8132\n",
            "step 2600: train loss 5.7956, val loss 5.8470\n",
            "step 2700: train loss 5.7637, val loss 5.7603\n",
            "step 2800: train loss 5.7419, val loss 5.7828\n",
            "step 2900: train loss 5.7383, val loss 5.7551\n",
            "step 3000: train loss 5.7056, val loss 5.7343\n",
            "step 3100: train loss 5.7211, val loss 5.7111\n",
            "step 3200: train loss 5.6874, val loss 5.6889\n",
            "step 3300: train loss 5.6704, val loss 5.6954\n",
            "step 3400: train loss 5.6742, val loss 5.6627\n",
            "step 3500: train loss 5.6717, val loss 5.6708\n",
            "step 3600: train loss 5.6201, val loss 5.6760\n",
            "step 3700: train loss 5.6412, val loss 5.6426\n",
            "step 3800: train loss 5.6379, val loss 5.6219\n",
            "step 3900: train loss 5.6103, val loss 5.6035\n",
            "step 4000: train loss 5.6229, val loss 5.6211\n",
            "step 4100: train loss 5.6103, val loss 5.6029\n",
            "step 4200: train loss 5.5870, val loss 5.5794\n",
            "step 4300: train loss 5.5492, val loss 5.5242\n",
            "step 4400: train loss 5.5769, val loss 5.5651\n",
            "step 4500: train loss 5.5503, val loss 5.5745\n",
            "step 4600: train loss 5.5281, val loss 5.5730\n",
            "step 4700: train loss 5.5418, val loss 5.5589\n",
            "step 4800: train loss 5.5478, val loss 5.5712\n",
            "step 4900: train loss 5.5296, val loss 5.5409\n",
            "step 5000: train loss 5.5022, val loss 5.5134\n",
            "step 5100: train loss 5.5186, val loss 5.5066\n",
            "step 5200: train loss 5.4968, val loss 5.4947\n",
            "step 5300: train loss 5.5228, val loss 5.4973\n",
            "step 5400: train loss 5.4819, val loss 5.5144\n",
            "step 5500: train loss 5.4828, val loss 5.4835\n",
            "step 5600: train loss 5.4748, val loss 5.4883\n",
            "step 5700: train loss 5.4419, val loss 5.4961\n",
            "step 5800: train loss 5.4787, val loss 5.4808\n",
            "step 5900: train loss 5.4327, val loss 5.4666\n",
            "step 6000: train loss 5.4463, val loss 5.4785\n",
            "step 6100: train loss 5.4270, val loss 5.4573\n",
            "step 6200: train loss 5.4508, val loss 5.4679\n",
            "step 6300: train loss 5.4087, val loss 5.4420\n",
            "step 6400: train loss 5.3994, val loss 5.4364\n",
            "step 6500: train loss 5.4246, val loss 5.4449\n",
            "step 6600: train loss 5.4267, val loss 5.4246\n",
            "step 6700: train loss 5.3881, val loss 5.4035\n",
            "step 6800: train loss 5.3719, val loss 5.3801\n",
            "step 6900: train loss 5.3875, val loss 5.3752\n",
            "step 7000: train loss 5.3675, val loss 5.3982\n",
            "step 7100: train loss 5.3732, val loss 5.3994\n",
            "step 7200: train loss 5.3459, val loss 5.3695\n",
            "step 7300: train loss 5.3850, val loss 5.3767\n",
            "step 7400: train loss 5.3642, val loss 5.3963\n",
            "step 7500: train loss 5.3374, val loss 5.4048\n",
            "step 7600: train loss 5.3436, val loss 5.3635\n",
            "step 7700: train loss 5.3612, val loss 5.3747\n",
            "step 7800: train loss 5.3429, val loss 5.3462\n",
            "step 7900: train loss 5.3264, val loss 5.3445\n",
            "step 8000: train loss 5.3180, val loss 5.3383\n",
            "step 8100: train loss 5.3228, val loss 5.3686\n",
            "step 8200: train loss 5.3117, val loss 5.3495\n",
            "step 8300: train loss 5.3217, val loss 5.3286\n",
            "step 8400: train loss 5.2831, val loss 5.3290\n",
            "step 8500: train loss 5.2797, val loss 5.3507\n",
            "step 8600: train loss 5.2743, val loss 5.3227\n",
            "step 8700: train loss 5.2829, val loss 5.3025\n",
            "step 8800: train loss 5.2959, val loss 5.3359\n",
            "step 8900: train loss 5.2995, val loss 5.2941\n",
            "step 9000: train loss 5.3151, val loss 5.3320\n",
            "step 9100: train loss 5.2626, val loss 5.3186\n",
            "step 9200: train loss 5.2879, val loss 5.3229\n",
            "step 9300: train loss 5.2744, val loss 5.2994\n",
            "step 9400: train loss 5.2983, val loss 5.3171\n",
            "step 9500: train loss 5.2505, val loss 5.2840\n",
            "step 9600: train loss 5.2641, val loss 5.2543\n",
            "step 9700: train loss 5.2771, val loss 5.2909\n",
            "step 9800: train loss 5.2347, val loss 5.3117\n",
            "step 9900: train loss 5.2494, val loss 5.2564\n",
            "step 9999: train loss 5.2238, val loss 5.2801\n"
          ]
        }
      ]
    },
    {
      "cell_type": "code",
      "source": [
        "import torch\n",
        "\n",
        "\n",
        "block_size=8\n",
        "context = \"Social media have become home to two things in recent years?\"\n",
        "converted = [sp.encode(context)]\n",
        "converted = torch.tensor(converted , device=device)\n",
        "print(converted)\n",
        "print(sp.decode(m.generate(converted, max_number_tokens=2000)[0].tolist()))"
      ],
      "metadata": {
        "colab": {
          "base_uri": "https://localhost:8080/"
        },
        "id": "zOr3iGzHh-vY",
        "outputId": "7073c2e5-2712-4dd5-e5be-cea63d1ad617"
      },
      "execution_count": 11,
      "outputs": [
        {
          "output_type": "stream",
          "name": "stdout",
          "text": [
            "tensor([[2885,  924,   46,  773,  501,    7,  249,  623,   12, 1249,  307,  141]],\n",
            "       device='cuda:0')\n",
            "Social media have become home to two things in recent years? Why youngmmows Last year (the more), here as far, in my postmes.4EN-RA. Photo Disper if you will simply maintain them appously affect the economy. The first soragere’s's drescript, supporting how the company published games have not directed in many liikingans on an ostance since 1990s held well in 2011. Todayr cost: It is: D. New Elleuls is now 11 before able to monitor somed that, case to use work. But if we will my visits about make the home to soulne “Sheat me, Stew is the doctch and let as completely too delay flow. In Attorney removes, are Scottishing by wrong. Protroet, the temperature and is Russianted Act and good machine’s that took looks,\" said BL MPP’s conference’s boundonic be polyqual third industry. A creative-The Kenumtal Wation to try his seven synender status trendment on Ock cates and Bangic Street, C. The eventity) and parent, or slore for a edgefe says, but it forms that than that you have more of many things right fun. Please enactive players are something in the present compord bee formed and the door shop wasing a farppoint vers, or two himself became the highests is one of that with this conducts. “Myst effects like to the Lanticalus to assume the National Guenap Center on the next stand for use. For instance, restricted the “oft weather and and icely considered blacks to a “sum” post” softwares\" two weeks that the Syrian. Saer Banker it first because they consider particularly supertren than a big model isn't not well looking at esemblated 1 the back after their nurising annually be transid space, that’s very dangerous most being contempptory or not a tree in impossible. Destack almost $500 million to see dis between 30 Eranpiot back but that MSA’s more often shotlands or so long. (Atcur disside) star_S_r{ edit ] The Merhycitation himself incatory and the basis of finality today leader laws a toward in the Army account and prelate, at Peter, Islamic al-contesaging Makers Tublvedoma Veryh Ennamevedallies, jander that a puriousce-mashows, and people whils pretty to the Larner Water neclitical Contections real system Pri keeping place with 160 million extremes or more resultal during the fettotlet up to cost area them with the fact wee to remarks that MCF  ⁇ 4&D card LE-2 (char tobiagage Prasing steah University Huck Gibbard Kuser Pal Carel Ilgets and es of NA and de difficult, rivivo and taily blus have now contivate kingly. I just need you a. I guess it this day Jamon Mem” normalment members in 195 percent, federal human diplomats if app, exactly there to that the decision, and Jeraet, Ohio if date will still wrong again again before warmous white workers-terming Mesual execial purposes on bill for Resource Center’s Interium's founderies, but for 16 percent. While about in the blogjawer zones. This is the need to the most approve list. CRADFPX P-Dey new Provisive orders fighters of the Patk’s right in 2013 second course by the matter of ‘sever’ Jess, there are going to be apotized. At this point, to the speaking game. Inveuréds! Because we can do let doesn’t maro with the _gret only 2016_I_10‐_9 10/AS 42V4. 2 Bubbedlestre for The the internet levels. The birth souli marriage would become one famous and expected over and follow and to our deaths.\" Over like who wanted to be described the opact overlated a team after plenty of both a standpoint-lying smly 2 hen demanded the end when he felt an awady. Serm the Nationals Liritor has known relatively find feminated “Is and Hardr. Though the future rethinance. Officie Sine/JoK = =. I presole said, Robertianeshard, Saman and Central William Stiepieuator Roan Joser city’s Mescles for the prison heavoris benoriously to stampize off assuming at the minimum other DGSs Sakeetart of every preseason Catholic make [ edit for the new gets] border unsidence behind outside about the face when there's about Bowley’s toler Kerine border, your audience Tier Turcia’s Inters:2A, Wallakiy. Cartratyre recalls are allleidful by your people, another relyget into a news concerned really boys? As you’re along guns. Thecespanda Les,?” DC isn’t seeking their different ongoned back and changes for criticism, who remained the stold minority and somelarship businessue on a veteran, and impose, bee, with any deep-reaser cut an control with thiesading and is 24 time in ourrawator’s wages that are on supporting oil and and include across the auto September. Weaman explains — as Second’s connection to be would open at the Jugsection almost achievements, not $39 to ambit the total message bound. The legal team Republicans could be used to string one of the evidence. Marr0. Nighter has no person bullet for thetriacocthical Center aftertenpits are trabea wi’t Is with a substverties are strongly tency to be cutting several lives. The main one does this new movie of the worlds. I said [bescode_tqoval_name_de_37 Karfree_11_time (raped is a very online corn of difference.”When says the NFL-brily 20- and-on equipment house \"ache port-sow flyering Wellm back, both total dies Unitedd with the Ghronatch called Pales Time Seare. “I said we’ve still love from labor. Mesignaz show served up on. I saw a balance multip in the Compusetander (eignn) while A - the draftary prices. Aley’s panel came, a plash-Utellm to trae who began if you won’t just got sure in Perta galist showed close for running when he may be demanded. Earlier opponents are travel. “A such Her state committee. Intelln: The heading busing it and he needs to change. Trading for 5 hours and in the government. But many changes such the discussion, intually, where he’s being shockable to get a melse. But I doubt for myself for Bell herself with a feverty to be possible. “We knew care mut what about you’ll maybe down, drop a submitted in Easternal regurill and claiming following his relationship light exercise like, the \"wasinting\" lives” such as one chitentture, just Live, collected Senate Photos the inspired and possibly to turn it, a sign of value in Sanic, a few same, though why you write arjo 9 percent. But your label Elschewlin and Endundment said. Thuble, which took the basic world life. It hasted to showing your money, and taking more than 12–biharing and satroan VIA. Iy wanted to a certain work on the phes that if we need the best place.\" Probin who it is already rank: the same purposes that he writes quite at the Spanish and not fineds in the elections. He keeped had egos on-umer element of publisher. “The laotage has further withindured eastern, who was still\n"
          ]
        }
      ]
    },
    {
      "cell_type": "markdown",
      "source": [
        "Experiment with diffrent data set ( a larger one )"
      ],
      "metadata": {
        "id": "rY5O0e1el792"
      }
    },
    {
      "cell_type": "code",
      "source": [],
      "metadata": {
        "id": "Jlla2gpOimnx"
      },
      "execution_count": null,
      "outputs": []
    }
  ]
}